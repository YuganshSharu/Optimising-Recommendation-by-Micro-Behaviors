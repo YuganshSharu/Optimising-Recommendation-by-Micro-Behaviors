{
 "cells": [
  {
   "cell_type": "code",
   "execution_count": null,
   "metadata": {},
   "outputs": [],
   "source": [
    "import numpy as np\n",
    "import pandas as pd\n",
    "import matplotlib.pyplot as plt\n",
    "import seaborn as sns\n",
    "from sklearn.metrics import confusion_matrix, precision_score, recall_score, f1_score, mean_squared_error, mean_absolute_error\n",
    "from sklearn.metrics.pairwise import cosine_similarity, euclidean_distances\n",
    "from sklearn.feature_extraction.text import TfidfVectorizer\n",
    "from sklearn.preprocessing import MinMaxScaler \n",
    "from sklearn import model_selection\n",
    "from surprise import Dataset, Reader, accuracy, KNNBasic, SVD, NMF, SlopeOne, CoClustering, BaselineOnly\n",
    "from surprise.model_selection import cross_validate\n",
    "\n",
    "import warnings\n",
    "warnings.filterwarnings(\"ignore\")\n",
    "\n",
    "pd.set_option('display.max_rows', 1000)\n"
   ]
  },
  {
   "cell_type": "code",
   "execution_count": null,
   "metadata": {},
   "outputs": [],
   "source": [
    "df = pd.read_csv('Ecommerce_Data2.csv')"
   ]
  },
  {
   "cell_type": "code",
   "execution_count": null,
   "metadata": {},
   "outputs": [],
   "source": [
    "df = df.drop('Unnamed: 0',axis=1)"
   ]
  },
  {
   "cell_type": "code",
   "execution_count": null,
   "metadata": {
    "scrolled": true
   },
   "outputs": [],
   "source": [
    "df['date'] = df['event_time'].apply(lambda x: x.split()[0])\n",
    "df['date']=pd.to_datetime(df['date'],format='%Y-%m-%d')\n",
    "df = df[df['date']<pd.Timestamp('2019-10-6 00:00:00')]\n",
    "df.to_csv('initialdf.csv')\n",
    "df"
   ]
  },
  {
   "cell_type": "code",
   "execution_count": null,
   "metadata": {},
   "outputs": [],
   "source": [
    "df['user_score'] = df['event_type'].map({'view':1,'cart':10,'purchase':50})\n",
    "df['user_purchase'] = df['event_type'].apply(lambda x: 1 if x=='purchase' else 0)\n",
    "df['price_category'] = 0\n",
    "for i in df['category_code'].unique():\n",
    "    df.loc[df['category_code']==i,'price_category'] = pd.qcut(x=df['price'][df['category_code']==i],q=5,labels=[1,2,3,4,5])\n",
    "df    "
   ]
  },
  {
   "cell_type": "code",
   "execution_count": null,
   "metadata": {},
   "outputs": [],
   "source": [
    "df.to_csv('initialdf1.csv')"
   ]
  },
  {
   "cell_type": "code",
   "execution_count": null,
   "metadata": {},
   "outputs": [],
   "source": [
    "for i in df['category_code'].unique():\n",
    "    df.loc[df['category_code']==i,'price_category'] = pd.qcut(x=df['price'][df['category_code']==i],q=5,labels=[1,2,3,4,5])"
   ]
  },
  {
   "cell_type": "code",
   "execution_count": null,
   "metadata": {},
   "outputs": [],
   "source": [
    "group = df.groupby(['user_id','product_id'])['user_score','user_purchase'].sum().reset_index()\n",
    "group['user_purchase'] = group['user_purchase'].apply(lambda x: 1 if x>1 else x)\n",
    "group['user_score'] = group['user_score'].apply(lambda x: 100 if x>100 else x)"
   ]
  },
  {
   "cell_type": "code",
   "execution_count": null,
   "metadata": {},
   "outputs": [],
   "source": [
    "std = MinMaxScaler(feature_range=(0.025, 1))\n",
    "std.fit(group['user_score'].values.reshape(-1,1))\n",
    "group['interaction_score'] = std.transform(group['user_score'].values.reshape(-1,1))"
   ]
  },
  {
   "cell_type": "code",
   "execution_count": null,
   "metadata": {},
   "outputs": [],
   "source": [
    "group = group.merge(df[['product_id','category_code','brand','price','price_category']].drop_duplicates('product_id'),on=['product_id'])"
   ]
  },
  {
   "cell_type": "code",
   "execution_count": null,
   "metadata": {},
   "outputs": [],
   "source": [
    "X_train_val, X_test = model_selection.train_test_split(group,test_size=0.2, random_state=42)"
   ]
  },
  {
   "cell_type": "code",
   "execution_count": null,
   "metadata": {},
   "outputs": [],
   "source": [
    "X_train, X_valid = model_selection.train_test_split(X_train_val,test_size=0.16, random_state=42)"
   ]
  },
  {
   "cell_type": "code",
   "execution_count": null,
   "metadata": {},
   "outputs": [],
   "source": [
    "X_valid1 = X_valid.copy()\n",
    "X_valid2 = X_valid.copy()\n",
    "X_train_val1 = X_train_val.copy()"
   ]
  },
  {
   "cell_type": "code",
   "execution_count": null,
   "metadata": {},
   "outputs": [],
   "source": [
    "product_cat = X_train[['product_id','price_category','category_code']].drop_duplicates('product_id')\n",
    "product_cat = product_cat.sort_values(by='product_id')\n",
    "product_cat"
   ]
  },
  {
   "cell_type": "code",
   "execution_count": null,
   "metadata": {},
   "outputs": [],
   "source": [
    "product_cat_matrix = np.reciprocal(euclidean_distances(np.array(product_cat['price_category']).reshape(-1,1))+1)"
   ]
  },
  {
   "cell_type": "code",
   "execution_count": null,
   "metadata": {},
   "outputs": [],
   "source": [
    "euclidean_matrix = pd.DataFrame(product_cat_matrix,columns=product_cat['product_id'],index=product_cat['product_id'])"
   ]
  },
  {
   "cell_type": "code",
   "execution_count": null,
   "metadata": {},
   "outputs": [],
   "source": [
    "tfidf_vectorizer = TfidfVectorizer()\n",
    "doc_term = tfidf_vectorizer.fit_transform(list(product_cat['category_code']))\n",
    "dt_matrix = pd.DataFrame(doc_term.toarray().round(3), index=[i for i in product_cat['product_id']], columns=tfidf_vectorizer.get_feature_names())"
   ]
  },
  {
   "cell_type": "code",
   "execution_count": null,
   "metadata": {},
   "outputs": [],
   "source": [
    "cos_similar_matrix = pd.DataFrame(cosine_similarity(dt_matrix.values),columns=product_cat['product_id'],index=product_cat['product_id'])"
   ]
  },
  {
   "cell_type": "code",
   "execution_count": null,
   "metadata": {},
   "outputs": [],
   "source": [
    "similar_matrix = cos_similar_matrix.multiply(euclidean_matrix)"
   ]
  },
  {
   "cell_type": "code",
   "execution_count": null,
   "metadata": {},
   "outputs": [],
   "source": [
    "X_train_matrix = pd.pivot_table(X_train,values='user_score',index='user_id',columns='product_id')\n",
    "X_train_matrix = X_train_matrix.fillna(0)"
   ]
  },
  {
   "cell_type": "code",
   "execution_count": null,
   "metadata": {},
   "outputs": [],
   "source": [
    "content_matrix = np.matmul(X_train_matrix, similar_matrix)\n",
    "scaler = MinMaxScaler(feature_range=(0, 1))\n",
    "content_matrix_scaled = scaler.fit_transform(content_matrix)\n",
    "content_df = pd.DataFrame(content_matrix_scaled, columns=sorted(X_train['product_id'].unique()), index=sorted(X_train['user_id'].unique())).stack().reset_index()\n",
    "content_df = content_df.rename(columns={'level_0': 'user_id', 'level_1': 'product_id', 0: 'predicted_interaction'})\n",
    "X_valid = pd.merge(X_valid, content_df, on=['user_id', 'product_id'])"
   ]
  },
  {
   "cell_type": "code",
   "execution_count": null,
   "metadata": {},
   "outputs": [],
   "source": [
    "threshold = 0.5\n",
    "X_valid['predicted_purchase'] = (X_valid['predicted_interaction'] >= threshold).astype(int)\n"
   ]
  },
  {
   "cell_type": "code",
   "execution_count": null,
   "metadata": {},
   "outputs": [],
   "source": [
    "item_price_precision = precision_score(X_valid['user_purchase'], X_valid['predicted_purchase'], average='binary')\n",
    "item_price_precision\n"
   ]
  },
  {
   "cell_type": "code",
   "execution_count": null,
   "metadata": {},
   "outputs": [],
   "source": [
    "item_price_recall = recall_score(X_valid['user_purchase'], X_valid['predicted_purchase'], average='binary')\n",
    "item_price_recall\n"
   ]
  },
  {
   "cell_type": "code",
   "execution_count": null,
   "metadata": {},
   "outputs": [],
   "source": [
    "item_price_f1 = f1_score(X_valid['user_purchase'], X_valid['predicted_purchase'], average='binary')\n",
    "item_price_f1\n"
   ]
  },
  {
   "cell_type": "code",
   "execution_count": null,
   "metadata": {},
   "outputs": [],
   "source": [
    "content_matrix = np.matmul(X_train_matrix, cos_similar_matrix)\n",
    "scaler = MinMaxScaler(feature_range=(0, 1))\n",
    "content_matrix_scaled = scaler.fit_transform(content_matrix)\n",
    "content_df = pd.DataFrame(content_matrix_scaled, columns=sorted(X_train['product_id'].unique()), index=sorted(X_train['user_id'].unique())).stack().reset_index()\n",
    "content_df = content_df.rename(columns={'level_0': 'user_id', 'level_1': 'product_id', 0: 'predicted_interaction'})\n",
    "X_valid1 = X_valid1.merge(content_df, on=['user_id', 'product_id'])\n"
   ]
  },
  {
   "cell_type": "code",
   "execution_count": null,
   "metadata": {},
   "outputs": [],
   "source": [
    "X_valid1['predicted_purchase'] = X_valid1['predicted_interaction'].apply(lambda x:1 if x>=0.5 else 0)"
   ]
  },
  {
   "cell_type": "code",
   "execution_count": null,
   "metadata": {},
   "outputs": [],
   "source": [
    "item_precision = precision_score(X_valid1['user_purchase'],X_valid1['predicted_purchase'])\n",
    "item_precision"
   ]
  },
  {
   "cell_type": "code",
   "execution_count": null,
   "metadata": {},
   "outputs": [],
   "source": [
    "item_recall = recall_score(X_valid1['user_purchase'],X_valid1['predicted_purchase'])\n",
    "item_recall"
   ]
  },
  {
   "cell_type": "code",
   "execution_count": null,
   "metadata": {},
   "outputs": [],
   "source": [
    "item_f1 = f1_score(X_valid1['user_purchase'],X_valid1['predicted_purchase'])\n",
    "item_f1"
   ]
  },
  {
   "cell_type": "code",
   "execution_count": null,
   "metadata": {
    "notebookRunGroups": {
     "groupValue": "1"
    }
   },
   "outputs": [],
   "source": [
    "\n",
    "import pandas as pd\n",
    "\n",
    "product_cat = pd.DataFrame({\n",
    "    'product_id': X_train['product_id'],\n",
    "    'price_category': X_train['price_category'],\n",
    "    'category_code': X_train['category_code'],\n",
    "    'brand': X_train['brand']\n",
    "})\n",
    "\n",
    "product_cat.drop_duplicates(subset='product_id', inplace=True)\n",
    "\n",
    "product_cat.sort_values(by='product_id', inplace=True)\n"
   ]
  },
  {
   "cell_type": "code",
   "execution_count": null,
   "metadata": {
    "notebookRunGroups": {
     "groupValue": "1"
    }
   },
   "outputs": [],
   "source": [
    "from sklearn.feature_extraction.text import TfidfVectorizer\n",
    "import pandas as pd\n",
    "\n",
    "tfidf_vectorizer = TfidfVectorizer()\n",
    "\n",
    "doc_term = tfidf_vectorizer.fit_transform(product_cat['brand'].tolist())\n",
    "\n",
    "dt_matrix1 = pd.DataFrame(\n",
    "    data=doc_term.toarray().round(3),\n",
    "    index=product_cat['product_id'],\n",
    "    columns=tfidf_vectorizer.get_feature_names()\n",
    ")\n",
    "\n",
    "dt_matrix1 += 0.01\n"
   ]
  },
  {
   "cell_type": "code",
   "execution_count": null,
   "metadata": {
    "notebookRunGroups": {
     "groupValue": "1"
    }
   },
   "outputs": [],
   "source": [
    "from sklearn.metrics.pairwise import cosine_similarity\n",
    "import pandas as pd\n",
    "\n",
    "cos_similar_matrix1 = cosine_similarity(dt_matrix1)\n",
    "\n",
    "cos_similar_matrix1 = pd.DataFrame(\n",
    "    data=cos_similar_matrix1,\n",
    "    columns=product_cat['product_id'],\n",
    "    index=product_cat['product_id']\n",
    ")\n"
   ]
  },
  {
   "cell_type": "code",
   "execution_count": null,
   "metadata": {
    "notebookRunGroups": {
     "groupValue": "1"
    }
   },
   "outputs": [],
   "source": [
    "import numpy as np\n",
    "\n",
    "similar_matrix = np.multiply(np.multiply(cos_similar_matrix, euclidean_matrix), cos_similar_matrix1)\n"
   ]
  },
  {
   "cell_type": "code",
   "execution_count": null,
   "metadata": {
    "notebookRunGroups": {
     "groupValue": "1"
    }
   },
   "outputs": [],
   "source": [
    "import pandas as pd\n",
    "from sklearn.preprocessing import MinMaxScaler\n",
    "\n",
    "X_train_matrix = pd.pivot_table(\n",
    "    data=X_train,\n",
    "    values='user_score',\n",
    "    index='user_id',\n",
    "    columns='product_id'\n",
    ")\n",
    "\n",
    "X_train_matrix = X_train_matrix.fillna(0)\n",
    "\n",
    "content_matrix = X_train_matrix.dot(similar_matrix)\n",
    "\n",
    "std = MinMaxScaler(feature_range=(0, 1))\n",
    "content_matrix = std.fit_transform(content_matrix)\n",
    "\n",
    "content_matrix = pd.DataFrame(\n",
    "    data=content_matrix,\n",
    "    columns=sorted(X_train['product_id'].unique()),\n",
    "    index=sorted(X_train['user_id'].unique())\n",
    ")\n",
    "\n",
    "content_df = content_matrix.stack().reset_index()\n",
    "content_df = content_df.rename(\n",
    "    columns={'level_0': 'user_id', 'level_1': 'product_id', 0: 'predicted_interaction'}\n",
    ")\n",
    "\n",
    "X_valid2 = X_valid2.merge(content_df, on=['user_id', 'product_id'])\n"
   ]
  },
  {
   "cell_type": "code",
   "execution_count": null,
   "metadata": {
    "notebookRunGroups": {
     "groupValue": "1"
    }
   },
   "outputs": [],
   "source": [
    "X_valid2['predicted_purchase'] = X_valid2['predicted_interaction'].apply(lambda x: 1 if x >= 0.5 else 0)\n"
   ]
  },
  {
   "cell_type": "code",
   "execution_count": null,
   "metadata": {
    "notebookRunGroups": {
     "groupValue": "1"
    }
   },
   "outputs": [],
   "source": [
    "item_price_brand_precision = precision_score(X_valid2['user_purchase'], X_valid2['predicted_purchase'])\n",
    "item_price_brand_precision"
   ]
  },
  {
   "cell_type": "code",
   "execution_count": null,
   "metadata": {
    "notebookRunGroups": {
     "groupValue": "1"
    }
   },
   "outputs": [],
   "source": [
    "item_price_brand_recall = recall_score(X_valid2['user_purchase'],X_valid2['predicted_purchase'])\n",
    "item_price_brand_recall"
   ]
  },
  {
   "cell_type": "code",
   "execution_count": null,
   "metadata": {
    "notebookRunGroups": {
     "groupValue": "1"
    }
   },
   "outputs": [],
   "source": [
    "item_price_brand_f1 = f1_score(X_valid2['user_purchase'],X_valid2['predicted_purchase'])\n",
    "item_price_brand_f1"
   ]
  },
  {
   "cell_type": "code",
   "execution_count": null,
   "metadata": {
    "notebookRunGroups": {
     "groupValue": "1"
    }
   },
   "outputs": [],
   "source": [
    "\n",
    "from sklearn.feature_extraction.text import TfidfVectorizer\n",
    "from sklearn.metrics.pairwise import cosine_similarity, euclidean_distances\n",
    "\n",
    "product_cat = X_train_val1[['product_id','price_category','category_code','brand']].drop_duplicates('product_id')\n",
    "\n",
    "price_cat_matrix = np.reciprocal(euclidean_distances(np.array(product_cat['price_category']).reshape(-1,1)) + 1)\n",
    "euclidean_matrix = pd.DataFrame(price_cat_matrix, columns=product_cat['product_id'], index=product_cat['product_id'])\n",
    "\n",
    "tfidf_vectorizer = TfidfVectorizer()\n",
    "dt_matrix = tfidf_vectorizer.fit_transform(list(product_cat['category_code']))\n",
    "cos_similar_matrix = pd.DataFrame(cosine_similarity(dt_matrix), columns=product_cat['product_id'], index=product_cat['product_id'])\n",
    "\n",
    "tfidf_vectorizer = TfidfVectorizer()\n",
    "dt_matrix1 = tfidf_vectorizer.fit_transform(list(product_cat['brand']))\n",
    "cos_similar_matrix1 = pd.DataFrame(cosine_similarity(dt_matrix1), columns=product_cat['product_id'], index=product_cat['product_id'])\n",
    "\n",
    "similar_matrix = cos_similar_matrix.multiply(euclidean_matrix).multiply(cos_similar_matrix1)\n",
    "\n",
    "X_train_val_matrix = pd.pivot_table(X_train_val1, values='user_score', index='user_id', columns='product_id').fillna(0)\n"
   ]
  },
  {
   "cell_type": "code",
   "execution_count": null,
   "metadata": {
    "notebookRunGroups": {
     "groupValue": "1"
    }
   },
   "outputs": [],
   "source": [
    "product_cat = X_train_val1[['product_id', 'price_category', 'category_code', 'brand']].drop_duplicates('product_id').sort_values(by='product_id')\n",
    "price_matrix = np.reciprocal(euclidean_distances(np.array(product_cat['price_category']).reshape(-1, 1)) + 1)\n",
    "price_similarity = pd.DataFrame(price_matrix, columns=product_cat['product_id'], index=product_cat['product_id'])\n",
    "\n",
    "\n",
    "tfidf_vectorizer = TfidfVectorizer()\n",
    "doc_term = tfidf_vectorizer.fit_transform(list(product_cat['category_code']))\n",
    "category_matrix = pd.DataFrame(cosine_similarity(doc_term), columns=product_cat['product_id'], index=product_cat['product_id'])\n",
    "\n",
    "\n",
    "doc_term = tfidf_vectorizer.fit_transform(list(product_cat['brand']))\n",
    "brand_matrix = pd.DataFrame(cosine_similarity(doc_term), columns=product_cat['product_id'], index=product_cat['product_id']) + 0.01\n",
    "\n",
    "similar_matrix = price_similarity.multiply(category_matrix).multiply(brand_matrix)\n",
    "\n",
    "X_train_val_matrix = pd.pivot_table(X_train_val1, values='user_score', index='user_id', columns='product_id').fillna(0)\n",
    "content_matrix = X_train_val_matrix.dot(similar_matrix)\n",
    "\n",
    "std = MinMaxScaler(feature_range=(0, 1))\n",
    "content_matrix_scaled = std.fit_transform(content_matrix)\n",
    "content_df = pd.DataFrame(content_matrix_scaled, columns=sorted(X_train_val1['product_id'].unique()), index=sorted(X_train_val1['user_id'].unique())).stack().reset_index()\n",
    "content_df.columns = ['user_id', 'product_id', 'predicted_interaction']\n",
    "\n",
    "X_test = X_test.merge(content_df, on=['user_id', 'product_id'])\n",
    "X_test['predicted_purchase'] = (X_test['predicted_interaction'] >= 0.5).astype(int)\n"
   ]
  },
  {
   "cell_type": "code",
   "execution_count": null,
   "metadata": {},
   "outputs": [],
   "source": [
    "precision = precision_score(X_test['user_purchase'],X_test['predicted_purchase'])\n",
    "precision"
   ]
  },
  {
   "cell_type": "code",
   "execution_count": null,
   "metadata": {},
   "outputs": [],
   "source": [
    "recall = recall_score(X_test['user_purchase'],X_test['predicted_purchase'])\n",
    "recall"
   ]
  },
  {
   "cell_type": "code",
   "execution_count": null,
   "metadata": {},
   "outputs": [],
   "source": [
    "f1 = f1_score(X_test['user_purchase'],X_test['predicted_purchase'])\n",
    "f1"
   ]
  },
  {
   "cell_type": "code",
   "execution_count": null,
   "metadata": {},
   "outputs": [],
   "source": [
    "X_test.sort_values(by='interaction_score',ascending=False).head(1000)"
   ]
  },
  {
   "cell_type": "code",
   "execution_count": null,
   "metadata": {},
   "outputs": [],
   "source": [
    "sampleuser_trainval = X_train_val[X_train_val['user_id']==518044530]\n",
    "sampleuser_trainval.to_csv('sampleuser_trainval.csv')\n",
    "sampleuser_trainval"
   ]
  },
  {
   "cell_type": "code",
   "execution_count": null,
   "metadata": {},
   "outputs": [],
   "source": [
    "sampleuser_test = X_test[X_test['user_id']==518044530]\n",
    "sampleuser_test.to_csv('sampleuser_test.csv')\n",
    "sampleuser_test"
   ]
  },
  {
   "cell_type": "code",
   "execution_count": null,
   "metadata": {},
   "outputs": [],
   "source": [
    "sample = content_df[content_df['user_id']==518044530].sort_values(by='predicted_interaction',ascending=False).merge(group[['product_id','category_code','brand','price','price_category']].drop_duplicates('product_id'),on='product_id')\n",
    "sample"
   ]
  },
  {
   "cell_type": "code",
   "execution_count": null,
   "metadata": {},
   "outputs": [],
   "source": [
    "sampleuser_recommend = sample[sample['predicted_interaction']>=0.5].sample(10,random_state=0)\n",
    "sampleuser_recommend.to_csv('sampleuser_recommend.csv')\n",
    "sampleuser_recommend"
   ]
  },
  {
   "cell_type": "code",
   "execution_count": null,
   "metadata": {},
   "outputs": [],
   "source": [
    "model = ['Item-Based','Item/Price-Based','Item/Price/Brand-Based']\n",
    "scoring = ['f1','precision','recall']\n",
    "model_name = ['item','item_price','item_price_brand']\n",
    "model_list = []\n",
    "\n",
    "for i in model:\n",
    "    for j in scoring:\n",
    "        model_dic = {'Model': i,'Scoring':j, 'Score':eval('{0}_{1}'.format(model_name[model.index(i)],j))}\n",
    "        model_list.append(model_dic)"
   ]
  },
  {
   "cell_type": "code",
   "execution_count": null,
   "metadata": {},
   "outputs": [],
   "source": [
    "model_df = pd.DataFrame(model_list)\n",
    "model_df"
   ]
  },
  {
   "cell_type": "code",
   "execution_count": null,
   "metadata": {},
   "outputs": [],
   "source": [
    "sns.set(style='white',font_scale=1.2)\n",
    "fig = plt.figure(figsize=[12,9])\n",
    "ax = sns.barplot(x='Model',y='Score',data=model_df,hue='Scoring',palette='Blues')\n",
    "for p in ax.patches:\n",
    "        ax.annotate(str((p.get_height()*100).round(1))+'%', (p.get_x()+0.06, p.get_height()+0.0005))\n",
    "plt.ylim([0.03,0.08])      \n",
    "plt.xlabel('',weight='bold',fontsize='15')\n",
    "plt.ylabel('Score',weight='bold',fontsize='18')\n",
    "plt.title('Performance of SV Across Content-Based Models',weight='bold',fontsize=17)\n",
    "sns.despine()\n",
    "plt.savefig('barplot.png',transparent=True, bbox_inches='tight')"
   ]
  },
  {
   "cell_type": "code",
   "execution_count": null,
   "metadata": {},
   "outputs": [],
   "source": [
    "user_group = group.groupby('user_id')['user_purchase'].sum()\n",
    "user_group = pd.DataFrame(user_group)\n",
    "user_group.sort_values(by='user_purchase')"
   ]
  },
  {
   "cell_type": "code",
   "execution_count": null,
   "metadata": {},
   "outputs": [],
   "source": [
    "fig1 = plt.figure(figsize=[12,8])\n",
    "ax1 = sns.distplot(user_group,bins=np.arange(22)-0.5,kde=False)\n",
    "plt.yscale('log')\n",
    "plt.xticks(range(0,21,1))\n",
    "plt.ylabel('No. of Customers (Log Scale)',fontsize=17, weight='bold')\n",
    "plt.xlabel('Total Unique Purchases', fontsize=17, weight='bold')\n",
    "plt.title('Histogram of Purchases across Customers',weight='bold',fontsize=20)\n",
    "sns.despine()\n",
    "plt.savefig('hisplot.png',transparent=True, bbox_inches='tight')"
   ]
  },
  {
   "cell_type": "code",
   "execution_count": null,
   "metadata": {},
   "outputs": [],
   "source": [
    "fig = plt.figure(figsize=[7,8])\n",
    "ax = sns.countplot(df.drop_duplicates(subset=['user_id','product_id','event_type'])['event_type'])\n",
    "plt.yscale('log')\n",
    "for p in ax.patches:\n",
    "        ax.annotate(p.get_height().round(3), (p.get_x()+0.25, p.get_height()+100))\n",
    "plt.xticks(ticks=[0,1,2],labels=['Unique Views','Unique Carts','Unique Purchases'])        \n",
    "plt.xlabel('')   \n",
    "plt.ylabel('Count (Log Scale)')\n",
    "plt.title('Unique Customer Interactions',weight='bold',fontsize=16)\n",
    "sns.despine()\n",
    "plt.savefig('countplot.png',transparent=True, bbox_inches='tight')"
   ]
  },
  {
   "cell_type": "code",
   "execution_count": null,
   "metadata": {},
   "outputs": [],
   "source": [
    "user_purchase = []\n",
    "for i in range(1,6):\n",
    "    X_sub = X_test[X_test['user_id'].isin(list(X_test.groupby('user_id')['user_purchase'].sum().reset_index()[X_test.groupby('user_id')['user_purchase'].sum().reset_index()['user_purchase']==i]['user_id']))]\n",
    "    recall = recall_score(X_sub['user_purchase'],X_sub['predicted_purchase'])\n",
    "    precision = precision_score(X_sub['user_purchase'],X_sub['predicted_purchase'])\n",
    "    user_purchase.append({'No. of Purchase':i,'Recall':recall,'Precision':precision})\n"
   ]
  },
  {
   "cell_type": "code",
   "execution_count": null,
   "metadata": {},
   "outputs": [],
   "source": [
    "user_purchase = pd.DataFrame(user_purchase)\n",
    "user_purchase2 = user_purchase.stack().reset_index().rename(columns={'level_0':'No. of Purchase','level_1':'Metric', 0:'Score'})[user_purchase.stack().reset_index().rename(columns={'level_0':'No. of Purchase','level_1':'Metric', 0:'Score'})['Metric']!='No. of Purchase']\n",
    "user_purchase2['No. of Purchase'] = user_purchase2['No. of Purchase'].apply(lambda x:x+1)\n",
    "user_purchase2"
   ]
  },
  {
   "cell_type": "code",
   "execution_count": null,
   "metadata": {},
   "outputs": [],
   "source": [
    "user_purchase.stack().reset_index()"
   ]
  },
  {
   "cell_type": "code",
   "execution_count": null,
   "metadata": {},
   "outputs": [],
   "source": [
    "user_group = X_test.groupby('user_id')['user_purchase'].sum()\n",
    "user_group = pd.DataFrame(user_group)\n",
    "user_group.sort_values(by='user_purchase')"
   ]
  },
  {
   "cell_type": "code",
   "execution_count": 3,
   "metadata": {},
   "outputs": [
    {
     "data": {
      "image/png": "[encoded data removed]",
      "text/plain": [
       "<Figure size 640x480 with 1 Axes>"
      ]
     },
     "metadata": {},
     "output_type": "display_data"
    }
   ],
   "source": [
    "fig1 = plt.figure(figsize=[10,8])\n",
    "ax1 = sns.distplot(user_group,bins=np.arange(7)-0.5,kde=False)\n",
    "plt.yscale('log')\n",
    "plt.xticks(range(0,6,1))\n",
    "plt.ylabel('No. of Customers (Log Scale)',fontsize=17, weight='bold')\n",
    "plt.xlabel('Total Unique Purchases', fontsize=17, weight='bold')\n",
    "ax2 = plt.twinx()\n",
    "sns.lineplot(x='No. of Purchase',y='Score',data=user_purchase2, hue='Metric',ax=ax2,marker='o',sort=False,palette='magma')\n",
    "plt.ylim([0,1.1])\n",
    "plt.ylabel('Recall/Precision Score',fontsize=17,weight='bold') \n",
    "plt.title('Purchases and Recall/Precision of Test Set',weight='bold',fontsize=20)\n",
    "plt.savefig('mixplot.png',transparent=True, bbox_inches='tight')\n",
    "\n"
   ]
  },
  {
   "cell_type": "code",
   "execution_count": 6,
   "metadata": {},
   "outputs": [
    {
     "data": {
      "image/png": "[encoded data removed]",
      "text/plain": [
       "<Figure size 640x480 with 2 Axes>"
      ]
     },
     "metadata": {},
     "output_type": "display_data"
    }
   ],
   "source": [
    "from matplotlib.colors import LogNorm\n",
    "satisfaction_confusion = confusion_matrix(X_test['user_purchase'], X_test['predicted_purchase'])\n",
    "plt.figure(dpi=120)\n",
    "ax = sns.heatmap(satisfaction_confusion, cmap=plt.cm.Blues, annot=True, square=True, fmt='d',norm=LogNorm(),\n",
    "xticklabels=['Did Not Purchase', 'Purchase'],\n",
    "yticklabels=['Did Not Purchase', 'Purchase']);   \n",
    "plt.xlabel('Prediction',weight='bold',fontsize=12)\n",
    "plt.ylabel('Actual',weight='bold',fontsize=12)\n",
    "plt.title('Confusion Matrix',weight='bold',fontsize=15)\n",
    "plt.savefig('confusionmatrix.png',transparent=True, bbox_inches='tight')\n"
   ]
  },
  {
   "cell_type": "code",
   "execution_count": null,
   "metadata": {},
   "outputs": [],
   "source": [
    "group.to_csv('groupdf.csv')"
   ]
  },
  {
   "cell_type": "code",
   "execution_count": null,
   "metadata": {},
   "outputs": [],
   "source": []
  }
 ],
 "metadata": {
  "kernelspec": {
   "display_name": "Python 3",
   "language": "python",
   "name": "python3"
  },
  "language_info": {
   "codemirror_mode": {
    "name": "ipython",
    "version": 3
   },
   "file_extension": ".py",
   "mimetype": "text/x-python",
   "name": "python",
   "nbconvert_exporter": "python",
   "pygments_lexer": "ipython3",
   "version": "3.11.2"
  }
 },
 "nbformat": 4,
 "nbformat_minor": 4
}
