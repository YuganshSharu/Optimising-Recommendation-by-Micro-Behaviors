{
  "nbformat": 4,
  "nbformat_minor": 0,
  "metadata": {
    "colab": {
      "provenance": []
    },
    "kernelspec": {
      "name": "python3",
      "display_name": "Python 3"
    },
    "language_info": {
      "name": "python"
    }
  },
  "cells": [
    {
      "cell_type": "code",
      "execution_count": null,
      "metadata": {
        "colab": {
          "base_uri": "https://localhost:8080/"
        },
        "id": "orP8lSnJBnCU",
        "outputId": "fa6b87a5-f554-4b58-92d3-8afcceb877b5"
      },
      "outputs": [
        {
          "output_type": "stream",
          "name": "stdout",
          "text": [
            "Drive already mounted at /content/drive; to attempt to forcibly remount, call drive.mount(\"/content/drive\", force_remount=True).\n"
          ]
        }
      ],
      "source": [
        "from google.colab import drive\n",
        "drive.mount('/content/drive')"
      ]
    },
    {
      "cell_type": "code",
      "source": [
        "import pandas as pd"
      ],
      "metadata": {
        "id": "LIRQ3DBYBoRf"
      },
      "execution_count": null,
      "outputs": []
    },
    {
      "cell_type": "code",
      "source": [
        "df0 = pd.read_csv('/content/drive/MyDrive/IR_Project/2019-Oct.csv')"
      ],
      "metadata": {
        "id": "7uhV5KwTXZii"
      },
      "execution_count": null,
      "outputs": []
    },
    {
      "cell_type": "code",
      "source": [
        "df0.head()"
      ],
      "metadata": {
        "colab": {
          "base_uri": "https://localhost:8080/",
          "height": 530
        },
        "id": "LaE9fJj-bwZ-",
        "outputId": "39b17ac2-9890-48b2-aecb-81d9617c5476"
      },
      "execution_count": null,
      "outputs": [
        {
          "output_type": "execute_result",
          "data": {
            "text/plain": [
              "                event_time event_type  product_id          category_id  \\\n",
              "0  2019-10-01 00:00:00 UTC       view    44600062  2103807459595387724   \n",
              "1  2019-10-01 00:00:00 UTC       view     3900821  2053013552326770905   \n",
              "2  2019-10-01 00:00:01 UTC       view    17200506  2053013559792632471   \n",
              "3  2019-10-01 00:00:01 UTC       view     1307067  2053013558920217191   \n",
              "4  2019-10-01 00:00:04 UTC       view     1004237  2053013555631882655   \n",
              "\n",
              "                         category_code     brand    price    user_id  \\\n",
              "0                                  NaN  shiseido    35.79  541312140   \n",
              "1  appliances.environment.water_heater      aqua    33.20  554748717   \n",
              "2           furniture.living_room.sofa       NaN   543.10  519107250   \n",
              "3                   computers.notebook    lenovo   251.74  550050854   \n",
              "4               electronics.smartphone     apple  1081.98  535871217   \n",
              "\n",
              "                           user_session  \n",
              "0  72d76fde-8bb3-4e00-8c23-a032dfed738c  \n",
              "1  9333dfbd-b87a-4708-9857-6336556b0fcc  \n",
              "2  566511c2-e2e3-422b-b695-cf8e6e792ca8  \n",
              "3  7c90fc70-0e80-4590-96f3-13c02c18c713  \n",
              "4  c6bd7419-2748-4c56-95b4-8cec9ff8b80d  "
            ],
            "text/html": [
              "\n",
              "  <div id=\"df-5b04e2ac-e5dc-4e15-9962-538220561219\">\n",
              "    <div class=\"colab-df-container\">\n",
              "      <div>\n",
              "<style scoped>\n",
              "    .dataframe tbody tr th:only-of-type {\n",
              "        vertical-align: middle;\n",
              "    }\n",
              "\n",
              "    .dataframe tbody tr th {\n",
              "        vertical-align: top;\n",
              "    }\n",
              "\n",
              "    .dataframe thead th {\n",
              "        text-align: right;\n",
              "    }\n",
              "</style>\n",
              "<table border=\"1\" class=\"dataframe\">\n",
              "  <thead>\n",
              "    <tr style=\"text-align: right;\">\n",
              "      <th></th>\n",
              "      <th>event_time</th>\n",
              "      <th>event_type</th>\n",
              "      <th>product_id</th>\n",
              "      <th>category_id</th>\n",
              "      <th>category_code</th>\n",
              "      <th>brand</th>\n",
              "      <th>price</th>\n",
              "      <th>user_id</th>\n",
              "      <th>user_session</th>\n",
              "    </tr>\n",
              "  </thead>\n",
              "  <tbody>\n",
              "    <tr>\n",
              "      <th>0</th>\n",
              "      <td>2019-10-01 00:00:00 UTC</td>\n",
              "      <td>view</td>\n",
              "      <td>44600062</td>\n",
              "      <td>2103807459595387724</td>\n",
              "      <td>NaN</td>\n",
              "      <td>shiseido</td>\n",
              "      <td>35.79</td>\n",
              "      <td>541312140</td>\n",
              "      <td>72d76fde-8bb3-4e00-8c23-a032dfed738c</td>\n",
              "    </tr>\n",
              "    <tr>\n",
              "      <th>1</th>\n",
              "      <td>2019-10-01 00:00:00 UTC</td>\n",
              "      <td>view</td>\n",
              "      <td>3900821</td>\n",
              "      <td>2053013552326770905</td>\n",
              "      <td>appliances.environment.water_heater</td>\n",
              "      <td>aqua</td>\n",
              "      <td>33.20</td>\n",
              "      <td>554748717</td>\n",
              "      <td>9333dfbd-b87a-4708-9857-6336556b0fcc</td>\n",
              "    </tr>\n",
              "    <tr>\n",
              "      <th>2</th>\n",
              "      <td>2019-10-01 00:00:01 UTC</td>\n",
              "      <td>view</td>\n",
              "      <td>17200506</td>\n",
              "      <td>2053013559792632471</td>\n",
              "      <td>furniture.living_room.sofa</td>\n",
              "      <td>NaN</td>\n",
              "      <td>543.10</td>\n",
              "      <td>519107250</td>\n",
              "      <td>566511c2-e2e3-422b-b695-cf8e6e792ca8</td>\n",
              "    </tr>\n",
              "    <tr>\n",
              "      <th>3</th>\n",
              "      <td>2019-10-01 00:00:01 UTC</td>\n",
              "      <td>view</td>\n",
              "      <td>1307067</td>\n",
              "      <td>2053013558920217191</td>\n",
              "      <td>computers.notebook</td>\n",
              "      <td>lenovo</td>\n",
              "      <td>251.74</td>\n",
              "      <td>550050854</td>\n",
              "      <td>7c90fc70-0e80-4590-96f3-13c02c18c713</td>\n",
              "    </tr>\n",
              "    <tr>\n",
              "      <th>4</th>\n",
              "      <td>2019-10-01 00:00:04 UTC</td>\n",
              "      <td>view</td>\n",
              "      <td>1004237</td>\n",
              "      <td>2053013555631882655</td>\n",
              "      <td>electronics.smartphone</td>\n",
              "      <td>apple</td>\n",
              "      <td>1081.98</td>\n",
              "      <td>535871217</td>\n",
              "      <td>c6bd7419-2748-4c56-95b4-8cec9ff8b80d</td>\n",
              "    </tr>\n",
              "  </tbody>\n",
              "</table>\n",
              "</div>\n",
              "      <button class=\"colab-df-convert\" onclick=\"convertToInteractive('df-5b04e2ac-e5dc-4e15-9962-538220561219')\"\n",
              "              title=\"Convert this dataframe to an interactive table.\"\n",
              "              style=\"display:none;\">\n",
              "        \n",
              "  <svg xmlns=\"http://www.w3.org/2000/svg\" height=\"24px\"viewBox=\"0 0 24 24\"\n",
              "       width=\"24px\">\n",
              "    <path d=\"M0 0h24v24H0V0z\" fill=\"none\"/>\n",
              "    <path d=\"M18.56 5.44l.94 2.06.94-2.06 2.06-.94-2.06-.94-.94-2.06-.94 2.06-2.06.94zm-11 1L8.5 8.5l.94-2.06 2.06-.94-2.06-.94L8.5 2.5l-.94 2.06-2.06.94zm10 10l.94 2.06.94-2.06 2.06-.94-2.06-.94-.94-2.06-.94 2.06-2.06.94z\"/><path d=\"M17.41 7.96l-1.37-1.37c-.4-.4-.92-.59-1.43-.59-.52 0-1.04.2-1.43.59L10.3 9.45l-7.72 7.72c-.78.78-.78 2.05 0 2.83L4 21.41c.39.39.9.59 1.41.59.51 0 1.02-.2 1.41-.59l7.78-7.78 2.81-2.81c.8-.78.8-2.07 0-2.86zM5.41 20L4 18.59l7.72-7.72 1.47 1.35L5.41 20z\"/>\n",
              "  </svg>\n",
              "      </button>\n",
              "      \n",
              "  <style>\n",
              "    .colab-df-container {\n",
              "      display:flex;\n",
              "      flex-wrap:wrap;\n",
              "      gap: 12px;\n",
              "    }\n",
              "\n",
              "    .colab-df-convert {\n",
              "      background-color: #E8F0FE;\n",
              "      border: none;\n",
              "      border-radius: 50%;\n",
              "      cursor: pointer;\n",
              "      display: none;\n",
              "      fill: #1967D2;\n",
              "      height: 32px;\n",
              "      padding: 0 0 0 0;\n",
              "      width: 32px;\n",
              "    }\n",
              "\n",
              "    .colab-df-convert:hover {\n",
              "      background-color: #E2EBFA;\n",
              "      box-shadow: 0px 1px 2px rgba(60, 64, 67, 0.3), 0px 1px 3px 1px rgba(60, 64, 67, 0.15);\n",
              "      fill: #174EA6;\n",
              "    }\n",
              "\n",
              "    [theme=dark] .colab-df-convert {\n",
              "      background-color: #3B4455;\n",
              "      fill: #D2E3FC;\n",
              "    }\n",
              "\n",
              "    [theme=dark] .colab-df-convert:hover {\n",
              "      background-color: #434B5C;\n",
              "      box-shadow: 0px 1px 3px 1px rgba(0, 0, 0, 0.15);\n",
              "      filter: drop-shadow(0px 1px 2px rgba(0, 0, 0, 0.3));\n",
              "      fill: #FFFFFF;\n",
              "    }\n",
              "  </style>\n",
              "\n",
              "      <script>\n",
              "        const buttonEl =\n",
              "          document.querySelector('#df-5b04e2ac-e5dc-4e15-9962-538220561219 button.colab-df-convert');\n",
              "        buttonEl.style.display =\n",
              "          google.colab.kernel.accessAllowed ? 'block' : 'none';\n",
              "\n",
              "        async function convertToInteractive(key) {\n",
              "          const element = document.querySelector('#df-5b04e2ac-e5dc-4e15-9962-538220561219');\n",
              "          const dataTable =\n",
              "            await google.colab.kernel.invokeFunction('convertToInteractive',\n",
              "                                                     [key], {});\n",
              "          if (!dataTable) return;\n",
              "\n",
              "          const docLinkHtml = 'Like what you see? Visit the ' +\n",
              "            '<a target=\"_blank\" href=https://colab.research.google.com/notebooks/data_table.ipynb>data table notebook</a>'\n",
              "            + ' to learn more about interactive tables.';\n",
              "          element.innerHTML = '';\n",
              "          dataTable['output_type'] = 'display_data';\n",
              "          await google.colab.output.renderOutput(dataTable, element);\n",
              "          const docLink = document.createElement('div');\n",
              "          docLink.innerHTML = docLinkHtml;\n",
              "          element.appendChild(docLink);\n",
              "        }\n",
              "      </script>\n",
              "    </div>\n",
              "  </div>\n",
              "  "
            ]
          },
          "metadata": {},
          "execution_count": 6
        }
      ]
    },
    {
      "cell_type": "code",
      "source": [
        "df1 = df0[df0['event_time'].str.contains('2019-10-01') | df0['event_time'].str.contains('2019-10-02') | df0['event_time'].str.contains('2019-10-03') | df0['event_time'].str.contains('2019-10-04') | df0['event_time'].str.contains('2019-10-05')]"
      ],
      "metadata": {
        "id": "8FGlFXuvgURz"
      },
      "execution_count": null,
      "outputs": []
    },
    {
      "cell_type": "code",
      "source": [
        "df1.tail()"
      ],
      "metadata": {
        "colab": {
          "base_uri": "https://localhost:8080/",
          "height": 513
        },
        "id": "bXXNz22OhzgF",
        "outputId": "8c36af71-f899-4b96-a33e-c9c9b3672aaa"
      },
      "execution_count": null,
      "outputs": [
        {
          "output_type": "execute_result",
          "data": {
            "text/plain": [
              "                      event_time event_type  product_id          category_id  \\\n",
              "6310400  2019-10-05 23:59:57 UTC       view     6400313  2053013554121933129   \n",
              "6310401  2019-10-05 23:59:58 UTC       view     9300047  2053013554524586339   \n",
              "6310402  2019-10-05 23:59:58 UTC       view     4501043  2053013563877884791   \n",
              "6310403  2019-10-05 23:59:59 UTC       view     5100627  2053013553341792533   \n",
              "6310404  2019-10-05 23:59:59 UTC       view     2601529  2053013563970159485   \n",
              "\n",
              "                    category_code    brand   price    user_id  \\\n",
              "6310400  computers.components.cpu    intel  177.48  546038044   \n",
              "6310401                       NaN     sony  334.35  515801257   \n",
              "6310402    appliances.kitchen.hob    hansa  205.41  515945416   \n",
              "6310403        electronics.clocks   garmin  169.86  520207634   \n",
              "6310404                       NaN  redmond   48.63  557193760   \n",
              "\n",
              "                                 user_session  \n",
              "6310400  b8338d61-1101-4817-88dc-b29f00ca355c  \n",
              "6310401  4e59332f-a72c-4c88-a178-4646ba1da5b3  \n",
              "6310402  ccc1c808-4f60-406f-a6da-a8742ce4d6ba  \n",
              "6310403  5c98cfe2-9670-49e4-811f-419bef2720fe  \n",
              "6310404  fdc7f7ca-10dc-467d-a963-8a65397bf4e6  "
            ],
            "text/html": [
              "\n",
              "  <div id=\"df-b9a54a9c-702e-4dc1-81c0-dd56d6d0d9b4\">\n",
              "    <div class=\"colab-df-container\">\n",
              "      <div>\n",
              "<style scoped>\n",
              "    .dataframe tbody tr th:only-of-type {\n",
              "        vertical-align: middle;\n",
              "    }\n",
              "\n",
              "    .dataframe tbody tr th {\n",
              "        vertical-align: top;\n",
              "    }\n",
              "\n",
              "    .dataframe thead th {\n",
              "        text-align: right;\n",
              "    }\n",
              "</style>\n",
              "<table border=\"1\" class=\"dataframe\">\n",
              "  <thead>\n",
              "    <tr style=\"text-align: right;\">\n",
              "      <th></th>\n",
              "      <th>event_time</th>\n",
              "      <th>event_type</th>\n",
              "      <th>product_id</th>\n",
              "      <th>category_id</th>\n",
              "      <th>category_code</th>\n",
              "      <th>brand</th>\n",
              "      <th>price</th>\n",
              "      <th>user_id</th>\n",
              "      <th>user_session</th>\n",
              "    </tr>\n",
              "  </thead>\n",
              "  <tbody>\n",
              "    <tr>\n",
              "      <th>6310400</th>\n",
              "      <td>2019-10-05 23:59:57 UTC</td>\n",
              "      <td>view</td>\n",
              "      <td>6400313</td>\n",
              "      <td>2053013554121933129</td>\n",
              "      <td>computers.components.cpu</td>\n",
              "      <td>intel</td>\n",
              "      <td>177.48</td>\n",
              "      <td>546038044</td>\n",
              "      <td>b8338d61-1101-4817-88dc-b29f00ca355c</td>\n",
              "    </tr>\n",
              "    <tr>\n",
              "      <th>6310401</th>\n",
              "      <td>2019-10-05 23:59:58 UTC</td>\n",
              "      <td>view</td>\n",
              "      <td>9300047</td>\n",
              "      <td>2053013554524586339</td>\n",
              "      <td>NaN</td>\n",
              "      <td>sony</td>\n",
              "      <td>334.35</td>\n",
              "      <td>515801257</td>\n",
              "      <td>4e59332f-a72c-4c88-a178-4646ba1da5b3</td>\n",
              "    </tr>\n",
              "    <tr>\n",
              "      <th>6310402</th>\n",
              "      <td>2019-10-05 23:59:58 UTC</td>\n",
              "      <td>view</td>\n",
              "      <td>4501043</td>\n",
              "      <td>2053013563877884791</td>\n",
              "      <td>appliances.kitchen.hob</td>\n",
              "      <td>hansa</td>\n",
              "      <td>205.41</td>\n",
              "      <td>515945416</td>\n",
              "      <td>ccc1c808-4f60-406f-a6da-a8742ce4d6ba</td>\n",
              "    </tr>\n",
              "    <tr>\n",
              "      <th>6310403</th>\n",
              "      <td>2019-10-05 23:59:59 UTC</td>\n",
              "      <td>view</td>\n",
              "      <td>5100627</td>\n",
              "      <td>2053013553341792533</td>\n",
              "      <td>electronics.clocks</td>\n",
              "      <td>garmin</td>\n",
              "      <td>169.86</td>\n",
              "      <td>520207634</td>\n",
              "      <td>5c98cfe2-9670-49e4-811f-419bef2720fe</td>\n",
              "    </tr>\n",
              "    <tr>\n",
              "      <th>6310404</th>\n",
              "      <td>2019-10-05 23:59:59 UTC</td>\n",
              "      <td>view</td>\n",
              "      <td>2601529</td>\n",
              "      <td>2053013563970159485</td>\n",
              "      <td>NaN</td>\n",
              "      <td>redmond</td>\n",
              "      <td>48.63</td>\n",
              "      <td>557193760</td>\n",
              "      <td>fdc7f7ca-10dc-467d-a963-8a65397bf4e6</td>\n",
              "    </tr>\n",
              "  </tbody>\n",
              "</table>\n",
              "</div>\n",
              "      <button class=\"colab-df-convert\" onclick=\"convertToInteractive('df-b9a54a9c-702e-4dc1-81c0-dd56d6d0d9b4')\"\n",
              "              title=\"Convert this dataframe to an interactive table.\"\n",
              "              style=\"display:none;\">\n",
              "        \n",
              "  <svg xmlns=\"http://www.w3.org/2000/svg\" height=\"24px\"viewBox=\"0 0 24 24\"\n",
              "       width=\"24px\">\n",
              "    <path d=\"M0 0h24v24H0V0z\" fill=\"none\"/>\n",
              "    <path d=\"M18.56 5.44l.94 2.06.94-2.06 2.06-.94-2.06-.94-.94-2.06-.94 2.06-2.06.94zm-11 1L8.5 8.5l.94-2.06 2.06-.94-2.06-.94L8.5 2.5l-.94 2.06-2.06.94zm10 10l.94 2.06.94-2.06 2.06-.94-2.06-.94-.94-2.06-.94 2.06-2.06.94z\"/><path d=\"M17.41 7.96l-1.37-1.37c-.4-.4-.92-.59-1.43-.59-.52 0-1.04.2-1.43.59L10.3 9.45l-7.72 7.72c-.78.78-.78 2.05 0 2.83L4 21.41c.39.39.9.59 1.41.59.51 0 1.02-.2 1.41-.59l7.78-7.78 2.81-2.81c.8-.78.8-2.07 0-2.86zM5.41 20L4 18.59l7.72-7.72 1.47 1.35L5.41 20z\"/>\n",
              "  </svg>\n",
              "      </button>\n",
              "      \n",
              "  <style>\n",
              "    .colab-df-container {\n",
              "      display:flex;\n",
              "      flex-wrap:wrap;\n",
              "      gap: 12px;\n",
              "    }\n",
              "\n",
              "    .colab-df-convert {\n",
              "      background-color: #E8F0FE;\n",
              "      border: none;\n",
              "      border-radius: 50%;\n",
              "      cursor: pointer;\n",
              "      display: none;\n",
              "      fill: #1967D2;\n",
              "      height: 32px;\n",
              "      padding: 0 0 0 0;\n",
              "      width: 32px;\n",
              "    }\n",
              "\n",
              "    .colab-df-convert:hover {\n",
              "      background-color: #E2EBFA;\n",
              "      box-shadow: 0px 1px 2px rgba(60, 64, 67, 0.3), 0px 1px 3px 1px rgba(60, 64, 67, 0.15);\n",
              "      fill: #174EA6;\n",
              "    }\n",
              "\n",
              "    [theme=dark] .colab-df-convert {\n",
              "      background-color: #3B4455;\n",
              "      fill: #D2E3FC;\n",
              "    }\n",
              "\n",
              "    [theme=dark] .colab-df-convert:hover {\n",
              "      background-color: #434B5C;\n",
              "      box-shadow: 0px 1px 3px 1px rgba(0, 0, 0, 0.15);\n",
              "      filter: drop-shadow(0px 1px 2px rgba(0, 0, 0, 0.3));\n",
              "      fill: #FFFFFF;\n",
              "    }\n",
              "  </style>\n",
              "\n",
              "      <script>\n",
              "        const buttonEl =\n",
              "          document.querySelector('#df-b9a54a9c-702e-4dc1-81c0-dd56d6d0d9b4 button.colab-df-convert');\n",
              "        buttonEl.style.display =\n",
              "          google.colab.kernel.accessAllowed ? 'block' : 'none';\n",
              "\n",
              "        async function convertToInteractive(key) {\n",
              "          const element = document.querySelector('#df-b9a54a9c-702e-4dc1-81c0-dd56d6d0d9b4');\n",
              "          const dataTable =\n",
              "            await google.colab.kernel.invokeFunction('convertToInteractive',\n",
              "                                                     [key], {});\n",
              "          if (!dataTable) return;\n",
              "\n",
              "          const docLinkHtml = 'Like what you see? Visit the ' +\n",
              "            '<a target=\"_blank\" href=https://colab.research.google.com/notebooks/data_table.ipynb>data table notebook</a>'\n",
              "            + ' to learn more about interactive tables.';\n",
              "          element.innerHTML = '';\n",
              "          dataTable['output_type'] = 'display_data';\n",
              "          await google.colab.output.renderOutput(dataTable, element);\n",
              "          const docLink = document.createElement('div');\n",
              "          docLink.innerHTML = docLinkHtml;\n",
              "          element.appendChild(docLink);\n",
              "        }\n",
              "      </script>\n",
              "    </div>\n",
              "  </div>\n",
              "  "
            ]
          },
          "metadata": {},
          "execution_count": 8
        }
      ]
    },
    {
      "cell_type": "code",
      "source": [
        "df1.head()"
      ],
      "metadata": {
        "colab": {
          "base_uri": "https://localhost:8080/",
          "height": 530
        },
        "id": "UUFYMzRsjPgQ",
        "outputId": "1f6cdff2-dc44-4196-be35-bb0b54df26cb"
      },
      "execution_count": null,
      "outputs": [
        {
          "output_type": "execute_result",
          "data": {
            "text/plain": [
              "                event_time event_type  product_id          category_id  \\\n",
              "0  2019-10-01 00:00:00 UTC       view    44600062  2103807459595387724   \n",
              "1  2019-10-01 00:00:00 UTC       view     3900821  2053013552326770905   \n",
              "2  2019-10-01 00:00:01 UTC       view    17200506  2053013559792632471   \n",
              "3  2019-10-01 00:00:01 UTC       view     1307067  2053013558920217191   \n",
              "4  2019-10-01 00:00:04 UTC       view     1004237  2053013555631882655   \n",
              "\n",
              "                         category_code     brand    price    user_id  \\\n",
              "0                                  NaN  shiseido    35.79  541312140   \n",
              "1  appliances.environment.water_heater      aqua    33.20  554748717   \n",
              "2           furniture.living_room.sofa       NaN   543.10  519107250   \n",
              "3                   computers.notebook    lenovo   251.74  550050854   \n",
              "4               electronics.smartphone     apple  1081.98  535871217   \n",
              "\n",
              "                           user_session  \n",
              "0  72d76fde-8bb3-4e00-8c23-a032dfed738c  \n",
              "1  9333dfbd-b87a-4708-9857-6336556b0fcc  \n",
              "2  566511c2-e2e3-422b-b695-cf8e6e792ca8  \n",
              "3  7c90fc70-0e80-4590-96f3-13c02c18c713  \n",
              "4  c6bd7419-2748-4c56-95b4-8cec9ff8b80d  "
            ],
            "text/html": [
              "\n",
              "  <div id=\"df-02ab91e9-047e-4271-a1f5-ca0d34b65604\">\n",
              "    <div class=\"colab-df-container\">\n",
              "      <div>\n",
              "<style scoped>\n",
              "    .dataframe tbody tr th:only-of-type {\n",
              "        vertical-align: middle;\n",
              "    }\n",
              "\n",
              "    .dataframe tbody tr th {\n",
              "        vertical-align: top;\n",
              "    }\n",
              "\n",
              "    .dataframe thead th {\n",
              "        text-align: right;\n",
              "    }\n",
              "</style>\n",
              "<table border=\"1\" class=\"dataframe\">\n",
              "  <thead>\n",
              "    <tr style=\"text-align: right;\">\n",
              "      <th></th>\n",
              "      <th>event_time</th>\n",
              "      <th>event_type</th>\n",
              "      <th>product_id</th>\n",
              "      <th>category_id</th>\n",
              "      <th>category_code</th>\n",
              "      <th>brand</th>\n",
              "      <th>price</th>\n",
              "      <th>user_id</th>\n",
              "      <th>user_session</th>\n",
              "    </tr>\n",
              "  </thead>\n",
              "  <tbody>\n",
              "    <tr>\n",
              "      <th>0</th>\n",
              "      <td>2019-10-01 00:00:00 UTC</td>\n",
              "      <td>view</td>\n",
              "      <td>44600062</td>\n",
              "      <td>2103807459595387724</td>\n",
              "      <td>NaN</td>\n",
              "      <td>shiseido</td>\n",
              "      <td>35.79</td>\n",
              "      <td>541312140</td>\n",
              "      <td>72d76fde-8bb3-4e00-8c23-a032dfed738c</td>\n",
              "    </tr>\n",
              "    <tr>\n",
              "      <th>1</th>\n",
              "      <td>2019-10-01 00:00:00 UTC</td>\n",
              "      <td>view</td>\n",
              "      <td>3900821</td>\n",
              "      <td>2053013552326770905</td>\n",
              "      <td>appliances.environment.water_heater</td>\n",
              "      <td>aqua</td>\n",
              "      <td>33.20</td>\n",
              "      <td>554748717</td>\n",
              "      <td>9333dfbd-b87a-4708-9857-6336556b0fcc</td>\n",
              "    </tr>\n",
              "    <tr>\n",
              "      <th>2</th>\n",
              "      <td>2019-10-01 00:00:01 UTC</td>\n",
              "      <td>view</td>\n",
              "      <td>17200506</td>\n",
              "      <td>2053013559792632471</td>\n",
              "      <td>furniture.living_room.sofa</td>\n",
              "      <td>NaN</td>\n",
              "      <td>543.10</td>\n",
              "      <td>519107250</td>\n",
              "      <td>566511c2-e2e3-422b-b695-cf8e6e792ca8</td>\n",
              "    </tr>\n",
              "    <tr>\n",
              "      <th>3</th>\n",
              "      <td>2019-10-01 00:00:01 UTC</td>\n",
              "      <td>view</td>\n",
              "      <td>1307067</td>\n",
              "      <td>2053013558920217191</td>\n",
              "      <td>computers.notebook</td>\n",
              "      <td>lenovo</td>\n",
              "      <td>251.74</td>\n",
              "      <td>550050854</td>\n",
              "      <td>7c90fc70-0e80-4590-96f3-13c02c18c713</td>\n",
              "    </tr>\n",
              "    <tr>\n",
              "      <th>4</th>\n",
              "      <td>2019-10-01 00:00:04 UTC</td>\n",
              "      <td>view</td>\n",
              "      <td>1004237</td>\n",
              "      <td>2053013555631882655</td>\n",
              "      <td>electronics.smartphone</td>\n",
              "      <td>apple</td>\n",
              "      <td>1081.98</td>\n",
              "      <td>535871217</td>\n",
              "      <td>c6bd7419-2748-4c56-95b4-8cec9ff8b80d</td>\n",
              "    </tr>\n",
              "  </tbody>\n",
              "</table>\n",
              "</div>\n",
              "      <button class=\"colab-df-convert\" onclick=\"convertToInteractive('df-02ab91e9-047e-4271-a1f5-ca0d34b65604')\"\n",
              "              title=\"Convert this dataframe to an interactive table.\"\n",
              "              style=\"display:none;\">\n",
              "        \n",
              "  <svg xmlns=\"http://www.w3.org/2000/svg\" height=\"24px\"viewBox=\"0 0 24 24\"\n",
              "       width=\"24px\">\n",
              "    <path d=\"M0 0h24v24H0V0z\" fill=\"none\"/>\n",
              "    <path d=\"M18.56 5.44l.94 2.06.94-2.06 2.06-.94-2.06-.94-.94-2.06-.94 2.06-2.06.94zm-11 1L8.5 8.5l.94-2.06 2.06-.94-2.06-.94L8.5 2.5l-.94 2.06-2.06.94zm10 10l.94 2.06.94-2.06 2.06-.94-2.06-.94-.94-2.06-.94 2.06-2.06.94z\"/><path d=\"M17.41 7.96l-1.37-1.37c-.4-.4-.92-.59-1.43-.59-.52 0-1.04.2-1.43.59L10.3 9.45l-7.72 7.72c-.78.78-.78 2.05 0 2.83L4 21.41c.39.39.9.59 1.41.59.51 0 1.02-.2 1.41-.59l7.78-7.78 2.81-2.81c.8-.78.8-2.07 0-2.86zM5.41 20L4 18.59l7.72-7.72 1.47 1.35L5.41 20z\"/>\n",
              "  </svg>\n",
              "      </button>\n",
              "      \n",
              "  <style>\n",
              "    .colab-df-container {\n",
              "      display:flex;\n",
              "      flex-wrap:wrap;\n",
              "      gap: 12px;\n",
              "    }\n",
              "\n",
              "    .colab-df-convert {\n",
              "      background-color: #E8F0FE;\n",
              "      border: none;\n",
              "      border-radius: 50%;\n",
              "      cursor: pointer;\n",
              "      display: none;\n",
              "      fill: #1967D2;\n",
              "      height: 32px;\n",
              "      padding: 0 0 0 0;\n",
              "      width: 32px;\n",
              "    }\n",
              "\n",
              "    .colab-df-convert:hover {\n",
              "      background-color: #E2EBFA;\n",
              "      box-shadow: 0px 1px 2px rgba(60, 64, 67, 0.3), 0px 1px 3px 1px rgba(60, 64, 67, 0.15);\n",
              "      fill: #174EA6;\n",
              "    }\n",
              "\n",
              "    [theme=dark] .colab-df-convert {\n",
              "      background-color: #3B4455;\n",
              "      fill: #D2E3FC;\n",
              "    }\n",
              "\n",
              "    [theme=dark] .colab-df-convert:hover {\n",
              "      background-color: #434B5C;\n",
              "      box-shadow: 0px 1px 3px 1px rgba(0, 0, 0, 0.15);\n",
              "      filter: drop-shadow(0px 1px 2px rgba(0, 0, 0, 0.3));\n",
              "      fill: #FFFFFF;\n",
              "    }\n",
              "  </style>\n",
              "\n",
              "      <script>\n",
              "        const buttonEl =\n",
              "          document.querySelector('#df-02ab91e9-047e-4271-a1f5-ca0d34b65604 button.colab-df-convert');\n",
              "        buttonEl.style.display =\n",
              "          google.colab.kernel.accessAllowed ? 'block' : 'none';\n",
              "\n",
              "        async function convertToInteractive(key) {\n",
              "          const element = document.querySelector('#df-02ab91e9-047e-4271-a1f5-ca0d34b65604');\n",
              "          const dataTable =\n",
              "            await google.colab.kernel.invokeFunction('convertToInteractive',\n",
              "                                                     [key], {});\n",
              "          if (!dataTable) return;\n",
              "\n",
              "          const docLinkHtml = 'Like what you see? Visit the ' +\n",
              "            '<a target=\"_blank\" href=https://colab.research.google.com/notebooks/data_table.ipynb>data table notebook</a>'\n",
              "            + ' to learn more about interactive tables.';\n",
              "          element.innerHTML = '';\n",
              "          dataTable['output_type'] = 'display_data';\n",
              "          await google.colab.output.renderOutput(dataTable, element);\n",
              "          const docLink = document.createElement('div');\n",
              "          docLink.innerHTML = docLinkHtml;\n",
              "          element.appendChild(docLink);\n",
              "        }\n",
              "      </script>\n",
              "    </div>\n",
              "  </div>\n",
              "  "
            ]
          },
          "metadata": {},
          "execution_count": 9
        }
      ]
    },
    {
      "cell_type": "code",
      "source": [
        "type(df1.iloc[1]['category_code'])"
      ],
      "metadata": {
        "colab": {
          "base_uri": "https://localhost:8080/"
        },
        "id": "E9P9W9tXin-q",
        "outputId": "733755a2-6cc2-46d6-d99e-5510ce1a51ea"
      },
      "execution_count": null,
      "outputs": [
        {
          "output_type": "execute_result",
          "data": {
            "text/plain": [
              "str"
            ]
          },
          "metadata": {},
          "execution_count": 10
        }
      ]
    },
    {
      "cell_type": "code",
      "source": [
        "df1 = df1.fillna('')"
      ],
      "metadata": {
        "id": "6_xzp43sjrq8"
      },
      "execution_count": null,
      "outputs": []
    },
    {
      "cell_type": "code",
      "source": [
        "df2 = df1[df1['category_code'].str.contains('computers.')]"
      ],
      "metadata": {
        "id": "M4QP2v6lft1i"
      },
      "execution_count": null,
      "outputs": []
    },
    {
      "cell_type": "code",
      "source": [
        "df = df2"
      ],
      "metadata": {
        "id": "2g-tykw1kyGh"
      },
      "execution_count": null,
      "outputs": []
    },
    {
      "cell_type": "code",
      "source": [
        "interaction_map = {'view':1,'cart':10,'purchase':50}"
      ],
      "metadata": {
        "id": "k8PN6R_I5zAQ"
      },
      "execution_count": null,
      "outputs": []
    },
    {
      "cell_type": "code",
      "source": [
        "df['user_score'] = df['event_type'].map(interaction_map)\n",
        "df['user_purchase'] = df['event_type'].apply(lambda x: 1 if x=='purchase' else 0)\n",
        "df['price_category'] = 0"
      ],
      "metadata": {
        "id": "lnu2x2uJftp1"
      },
      "execution_count": null,
      "outputs": []
    },
    {
      "cell_type": "code",
      "source": [
        "len(df['category_code'].unique())"
      ],
      "metadata": {
        "colab": {
          "base_uri": "https://localhost:8080/"
        },
        "id": "aE9NKLtPlW3G",
        "outputId": "d447c9ae-a14f-47f1-ac50-1c347a1e7409"
      },
      "execution_count": null,
      "outputs": [
        {
          "output_type": "execute_result",
          "data": {
            "text/plain": [
              "15"
            ]
          },
          "metadata": {},
          "execution_count": 15
        }
      ]
    },
    {
      "cell_type": "code",
      "source": [
        "categs = df['category_code'].unique()"
      ],
      "metadata": {
        "id": "wr9z0jUznjJp"
      },
      "execution_count": null,
      "outputs": []
    },
    {
      "cell_type": "code",
      "source": [
        "categs"
      ],
      "metadata": {
        "colab": {
          "base_uri": "https://localhost:8080/"
        },
        "id": "wzINLpN7st6B",
        "outputId": "46e3386b-28ba-4acd-ba78-fc74ffd63f97"
      },
      "execution_count": null,
      "outputs": [
        {
          "output_type": "execute_result",
          "data": {
            "text/plain": [
              "array(['computers.notebook', 'computers.desktop',\n",
              "       'computers.peripherals.monitor', 'computers.components.videocards',\n",
              "       'computers.peripherals.keyboard',\n",
              "       'computers.components.motherboard', 'computers.peripherals.mouse',\n",
              "       'computers.peripherals.printer', 'computers.components.memory',\n",
              "       'computers.ebooks', 'computers.components.power_supply',\n",
              "       'computers.components.cpu', 'computers.components.hdd',\n",
              "       'computers.components.cooler', 'computers.peripherals.camera'],\n",
              "      dtype=object)"
            ]
          },
          "metadata": {},
          "execution_count": 17
        }
      ]
    },
    {
      "cell_type": "code",
      "source": [
        "len(categs)"
      ],
      "metadata": {
        "colab": {
          "base_uri": "https://localhost:8080/"
        },
        "id": "IVtpFtNRnnhB",
        "outputId": "47dd6d6f-8beb-4ea7-a82c-05c34de8b0ca"
      },
      "execution_count": null,
      "outputs": [
        {
          "output_type": "execute_result",
          "data": {
            "text/plain": [
              "15"
            ]
          },
          "metadata": {},
          "execution_count": 18
        }
      ]
    },
    {
      "cell_type": "code",
      "source": [
        "price_series = list()"
      ],
      "metadata": {
        "id": "gj7eUjzpns8J"
      },
      "execution_count": null,
      "outputs": []
    },
    {
      "cell_type": "code",
      "source": [
        "for i in range(len(categs)):\n",
        "  serie = df[df['category_code'] == categs[i]]['price']\n",
        "  price_series.append(serie)"
      ],
      "metadata": {
        "id": "Usvzh6ISneo7"
      },
      "execution_count": null,
      "outputs": []
    },
    {
      "cell_type": "code",
      "source": [
        "qcut_series = []"
      ],
      "metadata": {
        "id": "ypLA1dwXpm34"
      },
      "execution_count": null,
      "outputs": []
    },
    {
      "cell_type": "code",
      "source": [
        "for i in range(len(categs)):\n",
        "  qcut_serie = pd.qcut(price_series[i], q=5, labels=[1,2,3,4,5])\n",
        "  qcut_series.append(qcut_serie)"
      ],
      "metadata": {
        "id": "sZh3zLJTnGSa"
      },
      "execution_count": null,
      "outputs": []
    },
    {
      "cell_type": "code",
      "source": [
        "for idx, element in enumerate(df['category_code'].unique()):\n",
        "  df.price_category[df['category_code']==element] = qcut_series[idx]"
      ],
      "metadata": {
        "id": "rjbur2zymoTf"
      },
      "execution_count": null,
      "outputs": []
    },
    {
      "cell_type": "code",
      "source": [
        "df"
      ],
      "metadata": {
        "colab": {
          "base_uri": "https://localhost:8080/",
          "height": 1000
        },
        "id": "GrVydrN7sFZO",
        "outputId": "fe804035-a8d8-4d4b-f960-5eea2248839f"
      },
      "execution_count": null,
      "outputs": [
        {
          "output_type": "execute_result",
          "data": {
            "text/plain": [
              "                      event_time event_type  product_id          category_id  \\\n",
              "3        2019-10-01 00:00:01 UTC       view     1307067  2053013558920217191   \n",
              "5        2019-10-01 00:00:05 UTC       view     1480613  2053013561092866779   \n",
              "18       2019-10-01 00:00:19 UTC       view     1306631  2053013558920217191   \n",
              "22       2019-10-01 00:00:22 UTC       view     1480714  2053013561092866779   \n",
              "50       2019-10-01 00:00:37 UTC       view     1701111  2053013553031414015   \n",
              "...                          ...        ...         ...                  ...   \n",
              "6310330  2019-10-05 23:59:20 UTC       view     1480584  2053013561092866779   \n",
              "6310369  2019-10-05 23:59:40 UTC       view     1480584  2053013561092866779   \n",
              "6310390  2019-10-05 23:59:50 UTC       view     1480171  2053013561092866779   \n",
              "6310398  2019-10-05 23:59:55 UTC       view     1306556  2053013558920217191   \n",
              "6310400  2019-10-05 23:59:57 UTC       view     6400313  2053013554121933129   \n",
              "\n",
              "                         category_code   brand   price    user_id  \\\n",
              "3                   computers.notebook  lenovo  251.74  550050854   \n",
              "5                    computers.desktop  pulser  908.62  512742880   \n",
              "18                  computers.notebook      hp  580.89  550050854   \n",
              "22                   computers.desktop  pulser  921.49  512742880   \n",
              "50       computers.peripherals.monitor    acer  514.79  547028884   \n",
              "...                                ...     ...     ...        ...   \n",
              "6310330              computers.desktop      hp  984.20  514752680   \n",
              "6310369              computers.desktop      hp  984.20  514752680   \n",
              "6310390              computers.desktop    acer  823.67  514752680   \n",
              "6310398             computers.notebook  lenovo  926.64  513465266   \n",
              "6310400       computers.components.cpu   intel  177.48  546038044   \n",
              "\n",
              "                                 user_session  user_score  user_purchase  \\\n",
              "3        7c90fc70-0e80-4590-96f3-13c02c18c713           1              0   \n",
              "5        0d0d91c2-c9c2-4e81-90a5-86594dec0db9           1              0   \n",
              "18       7c90fc70-0e80-4590-96f3-13c02c18c713           1              0   \n",
              "22       0d0d91c2-c9c2-4e81-90a5-86594dec0db9           1              0   \n",
              "50       3ea7c620-a8d7-45c5-9ced-2e9874e2f549           1              0   \n",
              "...                                       ...         ...            ...   \n",
              "6310330  d17778a4-d468-4c41-a17d-f3c47f739d8d           1              0   \n",
              "6310369  d17778a4-d468-4c41-a17d-f3c47f739d8d           1              0   \n",
              "6310390  d17778a4-d468-4c41-a17d-f3c47f739d8d           1              0   \n",
              "6310398  8576dd95-91d5-47c3-aa50-6220118fbd38           1              0   \n",
              "6310400  b8338d61-1101-4817-88dc-b29f00ca355c           1              0   \n",
              "\n",
              "         price_category  \n",
              "3                   1.0  \n",
              "5                   5.0  \n",
              "18                  3.0  \n",
              "22                  5.0  \n",
              "50                  5.0  \n",
              "...                 ...  \n",
              "6310330             5.0  \n",
              "6310369             5.0  \n",
              "6310390             4.0  \n",
              "6310398             4.0  \n",
              "6310400             2.0  \n",
              "\n",
              "[365515 rows x 12 columns]"
            ],
            "text/html": [
              "\n",
              "  <div id=\"df-aaf2e259-9f34-42f7-80bb-f8f345dc6e8b\">\n",
              "    <div class=\"colab-df-container\">\n",
              "      <div>\n",
              "<style scoped>\n",
              "    .dataframe tbody tr th:only-of-type {\n",
              "        vertical-align: middle;\n",
              "    }\n",
              "\n",
              "    .dataframe tbody tr th {\n",
              "        vertical-align: top;\n",
              "    }\n",
              "\n",
              "    .dataframe thead th {\n",
              "        text-align: right;\n",
              "    }\n",
              "</style>\n",
              "<table border=\"1\" class=\"dataframe\">\n",
              "  <thead>\n",
              "    <tr style=\"text-align: right;\">\n",
              "      <th></th>\n",
              "      <th>event_time</th>\n",
              "      <th>event_type</th>\n",
              "      <th>product_id</th>\n",
              "      <th>category_id</th>\n",
              "      <th>category_code</th>\n",
              "      <th>brand</th>\n",
              "      <th>price</th>\n",
              "      <th>user_id</th>\n",
              "      <th>user_session</th>\n",
              "      <th>user_score</th>\n",
              "      <th>user_purchase</th>\n",
              "      <th>price_category</th>\n",
              "    </tr>\n",
              "  </thead>\n",
              "  <tbody>\n",
              "    <tr>\n",
              "      <th>3</th>\n",
              "      <td>2019-10-01 00:00:01 UTC</td>\n",
              "      <td>view</td>\n",
              "      <td>1307067</td>\n",
              "      <td>2053013558920217191</td>\n",
              "      <td>computers.notebook</td>\n",
              "      <td>lenovo</td>\n",
              "      <td>251.74</td>\n",
              "      <td>550050854</td>\n",
              "      <td>7c90fc70-0e80-4590-96f3-13c02c18c713</td>\n",
              "      <td>1</td>\n",
              "      <td>0</td>\n",
              "      <td>1.0</td>\n",
              "    </tr>\n",
              "    <tr>\n",
              "      <th>5</th>\n",
              "      <td>2019-10-01 00:00:05 UTC</td>\n",
              "      <td>view</td>\n",
              "      <td>1480613</td>\n",
              "      <td>2053013561092866779</td>\n",
              "      <td>computers.desktop</td>\n",
              "      <td>pulser</td>\n",
              "      <td>908.62</td>\n",
              "      <td>512742880</td>\n",
              "      <td>0d0d91c2-c9c2-4e81-90a5-86594dec0db9</td>\n",
              "      <td>1</td>\n",
              "      <td>0</td>\n",
              "      <td>5.0</td>\n",
              "    </tr>\n",
              "    <tr>\n",
              "      <th>18</th>\n",
              "      <td>2019-10-01 00:00:19 UTC</td>\n",
              "      <td>view</td>\n",
              "      <td>1306631</td>\n",
              "      <td>2053013558920217191</td>\n",
              "      <td>computers.notebook</td>\n",
              "      <td>hp</td>\n",
              "      <td>580.89</td>\n",
              "      <td>550050854</td>\n",
              "      <td>7c90fc70-0e80-4590-96f3-13c02c18c713</td>\n",
              "      <td>1</td>\n",
              "      <td>0</td>\n",
              "      <td>3.0</td>\n",
              "    </tr>\n",
              "    <tr>\n",
              "      <th>22</th>\n",
              "      <td>2019-10-01 00:00:22 UTC</td>\n",
              "      <td>view</td>\n",
              "      <td>1480714</td>\n",
              "      <td>2053013561092866779</td>\n",
              "      <td>computers.desktop</td>\n",
              "      <td>pulser</td>\n",
              "      <td>921.49</td>\n",
              "      <td>512742880</td>\n",
              "      <td>0d0d91c2-c9c2-4e81-90a5-86594dec0db9</td>\n",
              "      <td>1</td>\n",
              "      <td>0</td>\n",
              "      <td>5.0</td>\n",
              "    </tr>\n",
              "    <tr>\n",
              "      <th>50</th>\n",
              "      <td>2019-10-01 00:00:37 UTC</td>\n",
              "      <td>view</td>\n",
              "      <td>1701111</td>\n",
              "      <td>2053013553031414015</td>\n",
              "      <td>computers.peripherals.monitor</td>\n",
              "      <td>acer</td>\n",
              "      <td>514.79</td>\n",
              "      <td>547028884</td>\n",
              "      <td>3ea7c620-a8d7-45c5-9ced-2e9874e2f549</td>\n",
              "      <td>1</td>\n",
              "      <td>0</td>\n",
              "      <td>5.0</td>\n",
              "    </tr>\n",
              "    <tr>\n",
              "      <th>...</th>\n",
              "      <td>...</td>\n",
              "      <td>...</td>\n",
              "      <td>...</td>\n",
              "      <td>...</td>\n",
              "      <td>...</td>\n",
              "      <td>...</td>\n",
              "      <td>...</td>\n",
              "      <td>...</td>\n",
              "      <td>...</td>\n",
              "      <td>...</td>\n",
              "      <td>...</td>\n",
              "      <td>...</td>\n",
              "    </tr>\n",
              "    <tr>\n",
              "      <th>6310330</th>\n",
              "      <td>2019-10-05 23:59:20 UTC</td>\n",
              "      <td>view</td>\n",
              "      <td>1480584</td>\n",
              "      <td>2053013561092866779</td>\n",
              "      <td>computers.desktop</td>\n",
              "      <td>hp</td>\n",
              "      <td>984.20</td>\n",
              "      <td>514752680</td>\n",
              "      <td>d17778a4-d468-4c41-a17d-f3c47f739d8d</td>\n",
              "      <td>1</td>\n",
              "      <td>0</td>\n",
              "      <td>5.0</td>\n",
              "    </tr>\n",
              "    <tr>\n",
              "      <th>6310369</th>\n",
              "      <td>2019-10-05 23:59:40 UTC</td>\n",
              "      <td>view</td>\n",
              "      <td>1480584</td>\n",
              "      <td>2053013561092866779</td>\n",
              "      <td>computers.desktop</td>\n",
              "      <td>hp</td>\n",
              "      <td>984.20</td>\n",
              "      <td>514752680</td>\n",
              "      <td>d17778a4-d468-4c41-a17d-f3c47f739d8d</td>\n",
              "      <td>1</td>\n",
              "      <td>0</td>\n",
              "      <td>5.0</td>\n",
              "    </tr>\n",
              "    <tr>\n",
              "      <th>6310390</th>\n",
              "      <td>2019-10-05 23:59:50 UTC</td>\n",
              "      <td>view</td>\n",
              "      <td>1480171</td>\n",
              "      <td>2053013561092866779</td>\n",
              "      <td>computers.desktop</td>\n",
              "      <td>acer</td>\n",
              "      <td>823.67</td>\n",
              "      <td>514752680</td>\n",
              "      <td>d17778a4-d468-4c41-a17d-f3c47f739d8d</td>\n",
              "      <td>1</td>\n",
              "      <td>0</td>\n",
              "      <td>4.0</td>\n",
              "    </tr>\n",
              "    <tr>\n",
              "      <th>6310398</th>\n",
              "      <td>2019-10-05 23:59:55 UTC</td>\n",
              "      <td>view</td>\n",
              "      <td>1306556</td>\n",
              "      <td>2053013558920217191</td>\n",
              "      <td>computers.notebook</td>\n",
              "      <td>lenovo</td>\n",
              "      <td>926.64</td>\n",
              "      <td>513465266</td>\n",
              "      <td>8576dd95-91d5-47c3-aa50-6220118fbd38</td>\n",
              "      <td>1</td>\n",
              "      <td>0</td>\n",
              "      <td>4.0</td>\n",
              "    </tr>\n",
              "    <tr>\n",
              "      <th>6310400</th>\n",
              "      <td>2019-10-05 23:59:57 UTC</td>\n",
              "      <td>view</td>\n",
              "      <td>6400313</td>\n",
              "      <td>2053013554121933129</td>\n",
              "      <td>computers.components.cpu</td>\n",
              "      <td>intel</td>\n",
              "      <td>177.48</td>\n",
              "      <td>546038044</td>\n",
              "      <td>b8338d61-1101-4817-88dc-b29f00ca355c</td>\n",
              "      <td>1</td>\n",
              "      <td>0</td>\n",
              "      <td>2.0</td>\n",
              "    </tr>\n",
              "  </tbody>\n",
              "</table>\n",
              "<p>365515 rows × 12 columns</p>\n",
              "</div>\n",
              "      <button class=\"colab-df-convert\" onclick=\"convertToInteractive('df-aaf2e259-9f34-42f7-80bb-f8f345dc6e8b')\"\n",
              "              title=\"Convert this dataframe to an interactive table.\"\n",
              "              style=\"display:none;\">\n",
              "        \n",
              "  <svg xmlns=\"http://www.w3.org/2000/svg\" height=\"24px\"viewBox=\"0 0 24 24\"\n",
              "       width=\"24px\">\n",
              "    <path d=\"M0 0h24v24H0V0z\" fill=\"none\"/>\n",
              "    <path d=\"M18.56 5.44l.94 2.06.94-2.06 2.06-.94-2.06-.94-.94-2.06-.94 2.06-2.06.94zm-11 1L8.5 8.5l.94-2.06 2.06-.94-2.06-.94L8.5 2.5l-.94 2.06-2.06.94zm10 10l.94 2.06.94-2.06 2.06-.94-2.06-.94-.94-2.06-.94 2.06-2.06.94z\"/><path d=\"M17.41 7.96l-1.37-1.37c-.4-.4-.92-.59-1.43-.59-.52 0-1.04.2-1.43.59L10.3 9.45l-7.72 7.72c-.78.78-.78 2.05 0 2.83L4 21.41c.39.39.9.59 1.41.59.51 0 1.02-.2 1.41-.59l7.78-7.78 2.81-2.81c.8-.78.8-2.07 0-2.86zM5.41 20L4 18.59l7.72-7.72 1.47 1.35L5.41 20z\"/>\n",
              "  </svg>\n",
              "      </button>\n",
              "      \n",
              "  <style>\n",
              "    .colab-df-container {\n",
              "      display:flex;\n",
              "      flex-wrap:wrap;\n",
              "      gap: 12px;\n",
              "    }\n",
              "\n",
              "    .colab-df-convert {\n",
              "      background-color: #E8F0FE;\n",
              "      border: none;\n",
              "      border-radius: 50%;\n",
              "      cursor: pointer;\n",
              "      display: none;\n",
              "      fill: #1967D2;\n",
              "      height: 32px;\n",
              "      padding: 0 0 0 0;\n",
              "      width: 32px;\n",
              "    }\n",
              "\n",
              "    .colab-df-convert:hover {\n",
              "      background-color: #E2EBFA;\n",
              "      box-shadow: 0px 1px 2px rgba(60, 64, 67, 0.3), 0px 1px 3px 1px rgba(60, 64, 67, 0.15);\n",
              "      fill: #174EA6;\n",
              "    }\n",
              "\n",
              "    [theme=dark] .colab-df-convert {\n",
              "      background-color: #3B4455;\n",
              "      fill: #D2E3FC;\n",
              "    }\n",
              "\n",
              "    [theme=dark] .colab-df-convert:hover {\n",
              "      background-color: #434B5C;\n",
              "      box-shadow: 0px 1px 3px 1px rgba(0, 0, 0, 0.15);\n",
              "      filter: drop-shadow(0px 1px 2px rgba(0, 0, 0, 0.3));\n",
              "      fill: #FFFFFF;\n",
              "    }\n",
              "  </style>\n",
              "\n",
              "      <script>\n",
              "        const buttonEl =\n",
              "          document.querySelector('#df-aaf2e259-9f34-42f7-80bb-f8f345dc6e8b button.colab-df-convert');\n",
              "        buttonEl.style.display =\n",
              "          google.colab.kernel.accessAllowed ? 'block' : 'none';\n",
              "\n",
              "        async function convertToInteractive(key) {\n",
              "          const element = document.querySelector('#df-aaf2e259-9f34-42f7-80bb-f8f345dc6e8b');\n",
              "          const dataTable =\n",
              "            await google.colab.kernel.invokeFunction('convertToInteractive',\n",
              "                                                     [key], {});\n",
              "          if (!dataTable) return;\n",
              "\n",
              "          const docLinkHtml = 'Like what you see? Visit the ' +\n",
              "            '<a target=\"_blank\" href=https://colab.research.google.com/notebooks/data_table.ipynb>data table notebook</a>'\n",
              "            + ' to learn more about interactive tables.';\n",
              "          element.innerHTML = '';\n",
              "          dataTable['output_type'] = 'display_data';\n",
              "          await google.colab.output.renderOutput(dataTable, element);\n",
              "          const docLink = document.createElement('div');\n",
              "          docLink.innerHTML = docLinkHtml;\n",
              "          element.appendChild(docLink);\n",
              "        }\n",
              "      </script>\n",
              "    </div>\n",
              "  </div>\n",
              "  "
            ]
          },
          "metadata": {},
          "execution_count": 24
        }
      ]
    },
    {
      "cell_type": "code",
      "source": [
        "from sklearn.preprocessing import MinMaxScaler"
      ],
      "metadata": {
        "id": "xh-fygQTvh1a"
      },
      "execution_count": null,
      "outputs": []
    },
    {
      "cell_type": "code",
      "source": [],
      "metadata": {
        "id": "o11AjTfmC9TF"
      },
      "execution_count": null,
      "outputs": []
    },
    {
      "cell_type": "code",
      "source": [
        "plt.plot(unique_purchase_count, prec_list, label='Precision', marker='o', color='purple')\n",
        "plt.plot(unique_purchase_count, rec_list, label='Recall', marker='*', color='orange')\n",
        "plt.xlabel('Unique Purchase Count')\n",
        "plt.title('Precision/Recall v/s Number of Unique Purchases')\n",
        "plt.show()"
      ],
      "metadata": {
        "colab": {
          "base_uri": "https://localhost:8080/",
          "height": 315
        },
        "outputId": "67d7f440-ba1d-48b7-92de-e72a51727558",
        "id": "KAZsNEqxC96K"
      },
      "execution_count": null,
      "outputs": [
        {
          "output_type": "display_data",
          "data": {
            "text/plain": [
              "<Figure size 432x288 with 1 Axes>"
            ],
            "image/png": "[encoded data removed]"
          },
          "metadata": {}
        }
      ]
    },
    {
      "cell_type": "code",
      "source": [
        "user_prod_grp = df.groupby(['user_id','product_id'])['user_score','user_purchase'].sum().reset_index()\n",
        "\n",
        "user_prod_grp['user_purchase'] = user_prod_grp['user_purchase'].apply(lambda x: 1 if x>1 else x)\n",
        "std = MinMaxScaler(feature_range=(0.025, 1))\n",
        "user_prod_grp['user_score'] = user_prod_grp['user_score'].apply(lambda x: 100 if x>100 else x)\n",
        "\n",
        "std.fit(user_prod_grp['user_score'].values.reshape(-1,1))\n",
        "user_prod_grp['interaction_score'] = std.transform(user_prod_grp['user_score'].values.reshape(-1,1))\n",
        "\n",
        "user_prod_grp = user_prod_grp.merge(df[['product_id','category_code','brand','price','price_category']].drop_duplicates('product_id'),on=['product_id'])"
      ],
      "metadata": {
        "colab": {
          "base_uri": "https://localhost:8080/"
        },
        "id": "FYUh9fPBtuaq",
        "outputId": "3371b12c-23be-4e8a-dc1d-05ef3da71943"
      },
      "execution_count": null,
      "outputs": [
        {
          "output_type": "stream",
          "name": "stderr",
          "text": [
            "<ipython-input-26-27fa9ed17171>:1: FutureWarning: Indexing with multiple keys (implicitly converted to a tuple of keys) will be deprecated, use a list instead.\n",
            "  group = df.groupby(['user_id','product_id'])['user_score','user_purchase'].sum().reset_index()\n"
          ]
        }
      ]
    },
    {
      "cell_type": "code",
      "source": [
        "user_prod_grp"
      ],
      "metadata": {
        "id": "Fu4aUU4bwBeP"
      },
      "execution_count": null,
      "outputs": []
    },
    {
      "cell_type": "code",
      "source": [
        "from sklearn.model_selection import train_test_split"
      ],
      "metadata": {
        "id": "4zqirFJQwFd8"
      },
      "execution_count": null,
      "outputs": []
    },
    {
      "cell_type": "code",
      "source": [
        "# importing data\n",
        "print(df.head())\n",
        "  \n",
        "# using the train test split function\n",
        "X_train, X_test = train_test_split(df,test_size=0.4)"
      ],
      "metadata": {
        "id": "DMwUzAlXwYFI"
      },
      "execution_count": null,
      "outputs": []
    },
    {
      "cell_type": "code",
      "source": [
        "X_train"
      ],
      "metadata": {
        "colab": {
          "base_uri": "https://localhost:8080/",
          "height": 1000
        },
        "id": "oV8ptTImvfp0",
        "outputId": "3812b478-bf61-4041-fa90-d07a5c81bb0e"
      },
      "execution_count": null,
      "outputs": [
        {
          "output_type": "execute_result",
          "data": {
            "text/plain": [
              "                      event_time event_type  product_id          category_id  \\\n",
              "3044405  2019-10-03 13:02:07 UTC       view     1500450  2053013552955916539   \n",
              "360061   2019-10-01 08:25:16 UTC       view     1307188  2053013558920217191   \n",
              "5456060  2019-10-05 09:06:40 UTC       view     1306021  2053013558920217191   \n",
              "961039   2019-10-01 16:32:29 UTC       view    25900029  2053013563718501229   \n",
              "1437563  2019-10-02 05:30:35 UTC       view     6400313  2053013554121933129   \n",
              "...                          ...        ...         ...                  ...   \n",
              "2831635  2019-10-03 09:15:13 UTC       view     1480452  2053013561092866779   \n",
              "5544750  2019-10-05 10:20:47 UTC       view     9101360  2053013552888807671   \n",
              "256622   2019-10-01 06:58:09 UTC       view     1480707  2053013561092866779   \n",
              "1236901  2019-10-01 22:49:09 UTC       view     1700906  2053013553031414015   \n",
              "5009417  2019-10-05 01:56:34 UTC       view     9200442  2053013552913973497   \n",
              "\n",
              "                          category_code     brand   price    user_id  \\\n",
              "3044405   computers.peripherals.printer        hp  113.79  536500691   \n",
              "360061               computers.notebook        hp  223.69  544939229   \n",
              "5456060              computers.notebook    lenovo  468.48  554770611   \n",
              "961039      computers.components.cooler     midea   33.44  540537365   \n",
              "1437563        computers.components.cpu     intel  176.97  547203006   \n",
              "...                                 ...       ...     ...        ...   \n",
              "2831635               computers.desktop    pulser  411.83  513284542   \n",
              "5544750     computers.peripherals.mouse  defender    7.44  513079601   \n",
              "256622                computers.desktop    pulser  501.92  551338649   \n",
              "1236901   computers.peripherals.monitor   philips  149.02  516707832   \n",
              "5009417  computers.peripherals.keyboard    ritmix    3.40  536844320   \n",
              "\n",
              "                                 user_session  user_score  user_purchase  \\\n",
              "3044405  3cba19ce-a51e-4da8-995f-773a198435b6           1              0   \n",
              "360061   d6ed5d1a-e70f-46ee-9aa6-a6baac4aee57           1              0   \n",
              "5456060  6dc0c309-b813-4c6d-bd89-13ed0728aba8           1              0   \n",
              "961039   8b1bb6e9-9c43-44a6-b7b5-858483f711c4           1              0   \n",
              "1437563  6d974bc6-0459-4c3b-8a43-2dd2ecc7e97d           1              0   \n",
              "...                                       ...         ...            ...   \n",
              "2831635  26f46d42-7369-4fd9-8e7b-fba577f26834           1              0   \n",
              "5544750  e397b4e0-6509-4af9-a70e-1dd38c0d5cf2           1              0   \n",
              "256622   1707c5d9-5813-4cfe-a820-c9af847da895           1              0   \n",
              "1236901  126947dd-c239-43d8-aeb4-f4461f7fa94b           1              0   \n",
              "5009417  c85d6e34-f62f-4c22-bc91-184a24be15e7           1              0   \n",
              "\n",
              "         price_category  \n",
              "3044405             1.0  \n",
              "360061              1.0  \n",
              "5456060             3.0  \n",
              "961039              3.0  \n",
              "1437563             2.0  \n",
              "...                 ...  \n",
              "2831635             3.0  \n",
              "5544750             2.0  \n",
              "256622              3.0  \n",
              "1236901             2.0  \n",
              "5009417             1.0  \n",
              "\n",
              "[219309 rows x 12 columns]"
            ],
            "text/html": [
              "\n",
              "  <div id=\"df-f4edd306-9c2f-4986-9ccf-2a106b2bd33e\">\n",
              "    <div class=\"colab-df-container\">\n",
              "      <div>\n",
              "<style scoped>\n",
              "    .dataframe tbody tr th:only-of-type {\n",
              "        vertical-align: middle;\n",
              "    }\n",
              "\n",
              "    .dataframe tbody tr th {\n",
              "        vertical-align: top;\n",
              "    }\n",
              "\n",
              "    .dataframe thead th {\n",
              "        text-align: right;\n",
              "    }\n",
              "</style>\n",
              "<table border=\"1\" class=\"dataframe\">\n",
              "  <thead>\n",
              "    <tr style=\"text-align: right;\">\n",
              "      <th></th>\n",
              "      <th>event_time</th>\n",
              "      <th>event_type</th>\n",
              "      <th>product_id</th>\n",
              "      <th>category_id</th>\n",
              "      <th>category_code</th>\n",
              "      <th>brand</th>\n",
              "      <th>price</th>\n",
              "      <th>user_id</th>\n",
              "      <th>user_session</th>\n",
              "      <th>user_score</th>\n",
              "      <th>user_purchase</th>\n",
              "      <th>price_category</th>\n",
              "    </tr>\n",
              "  </thead>\n",
              "  <tbody>\n",
              "    <tr>\n",
              "      <th>3044405</th>\n",
              "      <td>2019-10-03 13:02:07 UTC</td>\n",
              "      <td>view</td>\n",
              "      <td>1500450</td>\n",
              "      <td>2053013552955916539</td>\n",
              "      <td>computers.peripherals.printer</td>\n",
              "      <td>hp</td>\n",
              "      <td>113.79</td>\n",
              "      <td>536500691</td>\n",
              "      <td>3cba19ce-a51e-4da8-995f-773a198435b6</td>\n",
              "      <td>1</td>\n",
              "      <td>0</td>\n",
              "      <td>1.0</td>\n",
              "    </tr>\n",
              "    <tr>\n",
              "      <th>360061</th>\n",
              "      <td>2019-10-01 08:25:16 UTC</td>\n",
              "      <td>view</td>\n",
              "      <td>1307188</td>\n",
              "      <td>2053013558920217191</td>\n",
              "      <td>computers.notebook</td>\n",
              "      <td>hp</td>\n",
              "      <td>223.69</td>\n",
              "      <td>544939229</td>\n",
              "      <td>d6ed5d1a-e70f-46ee-9aa6-a6baac4aee57</td>\n",
              "      <td>1</td>\n",
              "      <td>0</td>\n",
              "      <td>1.0</td>\n",
              "    </tr>\n",
              "    <tr>\n",
              "      <th>5456060</th>\n",
              "      <td>2019-10-05 09:06:40 UTC</td>\n",
              "      <td>view</td>\n",
              "      <td>1306021</td>\n",
              "      <td>2053013558920217191</td>\n",
              "      <td>computers.notebook</td>\n",
              "      <td>lenovo</td>\n",
              "      <td>468.48</td>\n",
              "      <td>554770611</td>\n",
              "      <td>6dc0c309-b813-4c6d-bd89-13ed0728aba8</td>\n",
              "      <td>1</td>\n",
              "      <td>0</td>\n",
              "      <td>3.0</td>\n",
              "    </tr>\n",
              "    <tr>\n",
              "      <th>961039</th>\n",
              "      <td>2019-10-01 16:32:29 UTC</td>\n",
              "      <td>view</td>\n",
              "      <td>25900029</td>\n",
              "      <td>2053013563718501229</td>\n",
              "      <td>computers.components.cooler</td>\n",
              "      <td>midea</td>\n",
              "      <td>33.44</td>\n",
              "      <td>540537365</td>\n",
              "      <td>8b1bb6e9-9c43-44a6-b7b5-858483f711c4</td>\n",
              "      <td>1</td>\n",
              "      <td>0</td>\n",
              "      <td>3.0</td>\n",
              "    </tr>\n",
              "    <tr>\n",
              "      <th>1437563</th>\n",
              "      <td>2019-10-02 05:30:35 UTC</td>\n",
              "      <td>view</td>\n",
              "      <td>6400313</td>\n",
              "      <td>2053013554121933129</td>\n",
              "      <td>computers.components.cpu</td>\n",
              "      <td>intel</td>\n",
              "      <td>176.97</td>\n",
              "      <td>547203006</td>\n",
              "      <td>6d974bc6-0459-4c3b-8a43-2dd2ecc7e97d</td>\n",
              "      <td>1</td>\n",
              "      <td>0</td>\n",
              "      <td>2.0</td>\n",
              "    </tr>\n",
              "    <tr>\n",
              "      <th>...</th>\n",
              "      <td>...</td>\n",
              "      <td>...</td>\n",
              "      <td>...</td>\n",
              "      <td>...</td>\n",
              "      <td>...</td>\n",
              "      <td>...</td>\n",
              "      <td>...</td>\n",
              "      <td>...</td>\n",
              "      <td>...</td>\n",
              "      <td>...</td>\n",
              "      <td>...</td>\n",
              "      <td>...</td>\n",
              "    </tr>\n",
              "    <tr>\n",
              "      <th>2831635</th>\n",
              "      <td>2019-10-03 09:15:13 UTC</td>\n",
              "      <td>view</td>\n",
              "      <td>1480452</td>\n",
              "      <td>2053013561092866779</td>\n",
              "      <td>computers.desktop</td>\n",
              "      <td>pulser</td>\n",
              "      <td>411.83</td>\n",
              "      <td>513284542</td>\n",
              "      <td>26f46d42-7369-4fd9-8e7b-fba577f26834</td>\n",
              "      <td>1</td>\n",
              "      <td>0</td>\n",
              "      <td>3.0</td>\n",
              "    </tr>\n",
              "    <tr>\n",
              "      <th>5544750</th>\n",
              "      <td>2019-10-05 10:20:47 UTC</td>\n",
              "      <td>view</td>\n",
              "      <td>9101360</td>\n",
              "      <td>2053013552888807671</td>\n",
              "      <td>computers.peripherals.mouse</td>\n",
              "      <td>defender</td>\n",
              "      <td>7.44</td>\n",
              "      <td>513079601</td>\n",
              "      <td>e397b4e0-6509-4af9-a70e-1dd38c0d5cf2</td>\n",
              "      <td>1</td>\n",
              "      <td>0</td>\n",
              "      <td>2.0</td>\n",
              "    </tr>\n",
              "    <tr>\n",
              "      <th>256622</th>\n",
              "      <td>2019-10-01 06:58:09 UTC</td>\n",
              "      <td>view</td>\n",
              "      <td>1480707</td>\n",
              "      <td>2053013561092866779</td>\n",
              "      <td>computers.desktop</td>\n",
              "      <td>pulser</td>\n",
              "      <td>501.92</td>\n",
              "      <td>551338649</td>\n",
              "      <td>1707c5d9-5813-4cfe-a820-c9af847da895</td>\n",
              "      <td>1</td>\n",
              "      <td>0</td>\n",
              "      <td>3.0</td>\n",
              "    </tr>\n",
              "    <tr>\n",
              "      <th>1236901</th>\n",
              "      <td>2019-10-01 22:49:09 UTC</td>\n",
              "      <td>view</td>\n",
              "      <td>1700906</td>\n",
              "      <td>2053013553031414015</td>\n",
              "      <td>computers.peripherals.monitor</td>\n",
              "      <td>philips</td>\n",
              "      <td>149.02</td>\n",
              "      <td>516707832</td>\n",
              "      <td>126947dd-c239-43d8-aeb4-f4461f7fa94b</td>\n",
              "      <td>1</td>\n",
              "      <td>0</td>\n",
              "      <td>2.0</td>\n",
              "    </tr>\n",
              "    <tr>\n",
              "      <th>5009417</th>\n",
              "      <td>2019-10-05 01:56:34 UTC</td>\n",
              "      <td>view</td>\n",
              "      <td>9200442</td>\n",
              "      <td>2053013552913973497</td>\n",
              "      <td>computers.peripherals.keyboard</td>\n",
              "      <td>ritmix</td>\n",
              "      <td>3.40</td>\n",
              "      <td>536844320</td>\n",
              "      <td>c85d6e34-f62f-4c22-bc91-184a24be15e7</td>\n",
              "      <td>1</td>\n",
              "      <td>0</td>\n",
              "      <td>1.0</td>\n",
              "    </tr>\n",
              "  </tbody>\n",
              "</table>\n",
              "<p>219309 rows × 12 columns</p>\n",
              "</div>\n",
              "      <button class=\"colab-df-convert\" onclick=\"convertToInteractive('df-f4edd306-9c2f-4986-9ccf-2a106b2bd33e')\"\n",
              "              title=\"Convert this dataframe to an interactive table.\"\n",
              "              style=\"display:none;\">\n",
              "        \n",
              "  <svg xmlns=\"http://www.w3.org/2000/svg\" height=\"24px\"viewBox=\"0 0 24 24\"\n",
              "       width=\"24px\">\n",
              "    <path d=\"M0 0h24v24H0V0z\" fill=\"none\"/>\n",
              "    <path d=\"M18.56 5.44l.94 2.06.94-2.06 2.06-.94-2.06-.94-.94-2.06-.94 2.06-2.06.94zm-11 1L8.5 8.5l.94-2.06 2.06-.94-2.06-.94L8.5 2.5l-.94 2.06-2.06.94zm10 10l.94 2.06.94-2.06 2.06-.94-2.06-.94-.94-2.06-.94 2.06-2.06.94z\"/><path d=\"M17.41 7.96l-1.37-1.37c-.4-.4-.92-.59-1.43-.59-.52 0-1.04.2-1.43.59L10.3 9.45l-7.72 7.72c-.78.78-.78 2.05 0 2.83L4 21.41c.39.39.9.59 1.41.59.51 0 1.02-.2 1.41-.59l7.78-7.78 2.81-2.81c.8-.78.8-2.07 0-2.86zM5.41 20L4 18.59l7.72-7.72 1.47 1.35L5.41 20z\"/>\n",
              "  </svg>\n",
              "      </button>\n",
              "      \n",
              "  <style>\n",
              "    .colab-df-container {\n",
              "      display:flex;\n",
              "      flex-wrap:wrap;\n",
              "      gap: 12px;\n",
              "    }\n",
              "\n",
              "    .colab-df-convert {\n",
              "      background-color: #E8F0FE;\n",
              "      border: none;\n",
              "      border-radius: 50%;\n",
              "      cursor: pointer;\n",
              "      display: none;\n",
              "      fill: #1967D2;\n",
              "      height: 32px;\n",
              "      padding: 0 0 0 0;\n",
              "      width: 32px;\n",
              "    }\n",
              "\n",
              "    .colab-df-convert:hover {\n",
              "      background-color: #E2EBFA;\n",
              "      box-shadow: 0px 1px 2px rgba(60, 64, 67, 0.3), 0px 1px 3px 1px rgba(60, 64, 67, 0.15);\n",
              "      fill: #174EA6;\n",
              "    }\n",
              "\n",
              "    [theme=dark] .colab-df-convert {\n",
              "      background-color: #3B4455;\n",
              "      fill: #D2E3FC;\n",
              "    }\n",
              "\n",
              "    [theme=dark] .colab-df-convert:hover {\n",
              "      background-color: #434B5C;\n",
              "      box-shadow: 0px 1px 3px 1px rgba(0, 0, 0, 0.15);\n",
              "      filter: drop-shadow(0px 1px 2px rgba(0, 0, 0, 0.3));\n",
              "      fill: #FFFFFF;\n",
              "    }\n",
              "  </style>\n",
              "\n",
              "      <script>\n",
              "        const buttonEl =\n",
              "          document.querySelector('#df-f4edd306-9c2f-4986-9ccf-2a106b2bd33e button.colab-df-convert');\n",
              "        buttonEl.style.display =\n",
              "          google.colab.kernel.accessAllowed ? 'block' : 'none';\n",
              "\n",
              "        async function convertToInteractive(key) {\n",
              "          const element = document.querySelector('#df-f4edd306-9c2f-4986-9ccf-2a106b2bd33e');\n",
              "          const dataTable =\n",
              "            await google.colab.kernel.invokeFunction('convertToInteractive',\n",
              "                                                     [key], {});\n",
              "          if (!dataTable) return;\n",
              "\n",
              "          const docLinkHtml = 'Like what you see? Visit the ' +\n",
              "            '<a target=\"_blank\" href=https://colab.research.google.com/notebooks/data_table.ipynb>data table notebook</a>'\n",
              "            + ' to learn more about interactive tables.';\n",
              "          element.innerHTML = '';\n",
              "          dataTable['output_type'] = 'display_data';\n",
              "          await google.colab.output.renderOutput(dataTable, element);\n",
              "          const docLink = document.createElement('div');\n",
              "          docLink.innerHTML = docLinkHtml;\n",
              "          element.appendChild(docLink);\n",
              "        }\n",
              "      </script>\n",
              "    </div>\n",
              "  </div>\n",
              "  "
            ]
          },
          "metadata": {},
          "execution_count": 30
        }
      ]
    },
    {
      "cell_type": "code",
      "source": [
        "X_test"
      ],
      "metadata": {
        "id": "4nmMU-SAv0G2",
        "colab": {
          "base_uri": "https://localhost:8080/",
          "height": 1000
        },
        "outputId": "ee7373f6-db03-431c-f560-75df5efee23a"
      },
      "execution_count": null,
      "outputs": [
        {
          "output_type": "execute_result",
          "data": {
            "text/plain": [
              "                      event_time event_type  product_id          category_id  \\\n",
              "3515300  2019-10-03 19:59:29 UTC       view     9101020  2053013552888807671   \n",
              "239798   2019-10-01 06:43:01 UTC       view     9200568  2053013552913973497   \n",
              "2955734  2019-10-03 11:23:13 UTC       view     1306732  2053013558920217191   \n",
              "5307272  2019-10-05 07:05:45 UTC       view     1307441  2053013558920217191   \n",
              "5585927  2019-10-05 10:55:17 UTC       view    17800442  2053013559868129947   \n",
              "...                          ...        ...         ...                  ...   \n",
              "4649982  2019-10-04 16:10:33 UTC       view     1307377  2053013558920217191   \n",
              "2891008  2019-10-03 10:14:52 UTC       view     1306797  2053013558920217191   \n",
              "722618   2019-10-01 13:49:26 UTC       view     1701040  2053013553031414015   \n",
              "2981689  2019-10-03 11:51:43 UTC       view     1307240  2053013558920217191   \n",
              "5594048  2019-10-05 11:02:02 UTC       view    17800106  2053013559868129947   \n",
              "\n",
              "                          category_code     brand   price    user_id  \\\n",
              "3515300     computers.peripherals.mouse  logitech   88.40  550644371   \n",
              "239798   computers.peripherals.keyboard             23.42  540274659   \n",
              "2955734              computers.notebook      asus  360.11  514997490   \n",
              "5307272              computers.notebook      acer  555.97  549256521   \n",
              "5585927               computers.desktop   dxracer  257.15  513094874   \n",
              "...                                 ...       ...     ...        ...   \n",
              "4649982              computers.notebook    lenovo  437.56  540272503   \n",
              "2891008              computers.notebook      acer  283.12  513134065   \n",
              "722618    computers.peripherals.monitor        hp  154.19  519975182   \n",
              "2981689              computers.notebook      asus  385.84  525056695   \n",
              "5594048               computers.desktop   dxracer  321.50  517653566   \n",
              "\n",
              "                                 user_session  user_score  user_purchase  \\\n",
              "3515300  98e5c42f-e187-49be-b9b0-d87ce0b4d3fb           1              0   \n",
              "239798   29b6e924-c6da-4c76-bbbb-4017e4f6b191           1              0   \n",
              "2955734  00457e6d-4bd4-4119-982d-4318ebfa4391           1              0   \n",
              "5307272  a89e4036-1394-46fe-bd3d-151454890f37           1              0   \n",
              "5585927  2686cf24-5c50-4b69-a555-15b587f2b8d7           1              0   \n",
              "...                                       ...         ...            ...   \n",
              "4649982  b7880176-34d6-4e91-b24d-55c46b85e40c           1              0   \n",
              "2891008  d86fd1b3-6c16-433b-9165-738b6b1450ff           1              0   \n",
              "722618   04125bf1-725e-4194-b853-6cbe1284bb12           1              0   \n",
              "2981689  fb8bfabe-d961-46af-8233-61c1b0de9bd8           1              0   \n",
              "5594048  51004d29-34d4-44f3-b22d-174b016902f7           1              0   \n",
              "\n",
              "         price_category  \n",
              "3515300             5.0  \n",
              "239798              3.0  \n",
              "2955734             2.0  \n",
              "5307272             3.0  \n",
              "5585927             2.0  \n",
              "...                 ...  \n",
              "4649982             2.0  \n",
              "2891008             1.0  \n",
              "722618              2.0  \n",
              "2981689             2.0  \n",
              "5594048             2.0  \n",
              "\n",
              "[146206 rows x 12 columns]"
            ],
            "text/html": [
              "\n",
              "  <div id=\"df-e96d1109-b4e1-491a-954d-e45a2cd2d423\">\n",
              "    <div class=\"colab-df-container\">\n",
              "      <div>\n",
              "<style scoped>\n",
              "    .dataframe tbody tr th:only-of-type {\n",
              "        vertical-align: middle;\n",
              "    }\n",
              "\n",
              "    .dataframe tbody tr th {\n",
              "        vertical-align: top;\n",
              "    }\n",
              "\n",
              "    .dataframe thead th {\n",
              "        text-align: right;\n",
              "    }\n",
              "</style>\n",
              "<table border=\"1\" class=\"dataframe\">\n",
              "  <thead>\n",
              "    <tr style=\"text-align: right;\">\n",
              "      <th></th>\n",
              "      <th>event_time</th>\n",
              "      <th>event_type</th>\n",
              "      <th>product_id</th>\n",
              "      <th>category_id</th>\n",
              "      <th>category_code</th>\n",
              "      <th>brand</th>\n",
              "      <th>price</th>\n",
              "      <th>user_id</th>\n",
              "      <th>user_session</th>\n",
              "      <th>user_score</th>\n",
              "      <th>user_purchase</th>\n",
              "      <th>price_category</th>\n",
              "    </tr>\n",
              "  </thead>\n",
              "  <tbody>\n",
              "    <tr>\n",
              "      <th>3515300</th>\n",
              "      <td>2019-10-03 19:59:29 UTC</td>\n",
              "      <td>view</td>\n",
              "      <td>9101020</td>\n",
              "      <td>2053013552888807671</td>\n",
              "      <td>computers.peripherals.mouse</td>\n",
              "      <td>logitech</td>\n",
              "      <td>88.40</td>\n",
              "      <td>550644371</td>\n",
              "      <td>98e5c42f-e187-49be-b9b0-d87ce0b4d3fb</td>\n",
              "      <td>1</td>\n",
              "      <td>0</td>\n",
              "      <td>5.0</td>\n",
              "    </tr>\n",
              "    <tr>\n",
              "      <th>239798</th>\n",
              "      <td>2019-10-01 06:43:01 UTC</td>\n",
              "      <td>view</td>\n",
              "      <td>9200568</td>\n",
              "      <td>2053013552913973497</td>\n",
              "      <td>computers.peripherals.keyboard</td>\n",
              "      <td></td>\n",
              "      <td>23.42</td>\n",
              "      <td>540274659</td>\n",
              "      <td>29b6e924-c6da-4c76-bbbb-4017e4f6b191</td>\n",
              "      <td>1</td>\n",
              "      <td>0</td>\n",
              "      <td>3.0</td>\n",
              "    </tr>\n",
              "    <tr>\n",
              "      <th>2955734</th>\n",
              "      <td>2019-10-03 11:23:13 UTC</td>\n",
              "      <td>view</td>\n",
              "      <td>1306732</td>\n",
              "      <td>2053013558920217191</td>\n",
              "      <td>computers.notebook</td>\n",
              "      <td>asus</td>\n",
              "      <td>360.11</td>\n",
              "      <td>514997490</td>\n",
              "      <td>00457e6d-4bd4-4119-982d-4318ebfa4391</td>\n",
              "      <td>1</td>\n",
              "      <td>0</td>\n",
              "      <td>2.0</td>\n",
              "    </tr>\n",
              "    <tr>\n",
              "      <th>5307272</th>\n",
              "      <td>2019-10-05 07:05:45 UTC</td>\n",
              "      <td>view</td>\n",
              "      <td>1307441</td>\n",
              "      <td>2053013558920217191</td>\n",
              "      <td>computers.notebook</td>\n",
              "      <td>acer</td>\n",
              "      <td>555.97</td>\n",
              "      <td>549256521</td>\n",
              "      <td>a89e4036-1394-46fe-bd3d-151454890f37</td>\n",
              "      <td>1</td>\n",
              "      <td>0</td>\n",
              "      <td>3.0</td>\n",
              "    </tr>\n",
              "    <tr>\n",
              "      <th>5585927</th>\n",
              "      <td>2019-10-05 10:55:17 UTC</td>\n",
              "      <td>view</td>\n",
              "      <td>17800442</td>\n",
              "      <td>2053013559868129947</td>\n",
              "      <td>computers.desktop</td>\n",
              "      <td>dxracer</td>\n",
              "      <td>257.15</td>\n",
              "      <td>513094874</td>\n",
              "      <td>2686cf24-5c50-4b69-a555-15b587f2b8d7</td>\n",
              "      <td>1</td>\n",
              "      <td>0</td>\n",
              "      <td>2.0</td>\n",
              "    </tr>\n",
              "    <tr>\n",
              "      <th>...</th>\n",
              "      <td>...</td>\n",
              "      <td>...</td>\n",
              "      <td>...</td>\n",
              "      <td>...</td>\n",
              "      <td>...</td>\n",
              "      <td>...</td>\n",
              "      <td>...</td>\n",
              "      <td>...</td>\n",
              "      <td>...</td>\n",
              "      <td>...</td>\n",
              "      <td>...</td>\n",
              "      <td>...</td>\n",
              "    </tr>\n",
              "    <tr>\n",
              "      <th>4649982</th>\n",
              "      <td>2019-10-04 16:10:33 UTC</td>\n",
              "      <td>view</td>\n",
              "      <td>1307377</td>\n",
              "      <td>2053013558920217191</td>\n",
              "      <td>computers.notebook</td>\n",
              "      <td>lenovo</td>\n",
              "      <td>437.56</td>\n",
              "      <td>540272503</td>\n",
              "      <td>b7880176-34d6-4e91-b24d-55c46b85e40c</td>\n",
              "      <td>1</td>\n",
              "      <td>0</td>\n",
              "      <td>2.0</td>\n",
              "    </tr>\n",
              "    <tr>\n",
              "      <th>2891008</th>\n",
              "      <td>2019-10-03 10:14:52 UTC</td>\n",
              "      <td>view</td>\n",
              "      <td>1306797</td>\n",
              "      <td>2053013558920217191</td>\n",
              "      <td>computers.notebook</td>\n",
              "      <td>acer</td>\n",
              "      <td>283.12</td>\n",
              "      <td>513134065</td>\n",
              "      <td>d86fd1b3-6c16-433b-9165-738b6b1450ff</td>\n",
              "      <td>1</td>\n",
              "      <td>0</td>\n",
              "      <td>1.0</td>\n",
              "    </tr>\n",
              "    <tr>\n",
              "      <th>722618</th>\n",
              "      <td>2019-10-01 13:49:26 UTC</td>\n",
              "      <td>view</td>\n",
              "      <td>1701040</td>\n",
              "      <td>2053013553031414015</td>\n",
              "      <td>computers.peripherals.monitor</td>\n",
              "      <td>hp</td>\n",
              "      <td>154.19</td>\n",
              "      <td>519975182</td>\n",
              "      <td>04125bf1-725e-4194-b853-6cbe1284bb12</td>\n",
              "      <td>1</td>\n",
              "      <td>0</td>\n",
              "      <td>2.0</td>\n",
              "    </tr>\n",
              "    <tr>\n",
              "      <th>2981689</th>\n",
              "      <td>2019-10-03 11:51:43 UTC</td>\n",
              "      <td>view</td>\n",
              "      <td>1307240</td>\n",
              "      <td>2053013558920217191</td>\n",
              "      <td>computers.notebook</td>\n",
              "      <td>asus</td>\n",
              "      <td>385.84</td>\n",
              "      <td>525056695</td>\n",
              "      <td>fb8bfabe-d961-46af-8233-61c1b0de9bd8</td>\n",
              "      <td>1</td>\n",
              "      <td>0</td>\n",
              "      <td>2.0</td>\n",
              "    </tr>\n",
              "    <tr>\n",
              "      <th>5594048</th>\n",
              "      <td>2019-10-05 11:02:02 UTC</td>\n",
              "      <td>view</td>\n",
              "      <td>17800106</td>\n",
              "      <td>2053013559868129947</td>\n",
              "      <td>computers.desktop</td>\n",
              "      <td>dxracer</td>\n",
              "      <td>321.50</td>\n",
              "      <td>517653566</td>\n",
              "      <td>51004d29-34d4-44f3-b22d-174b016902f7</td>\n",
              "      <td>1</td>\n",
              "      <td>0</td>\n",
              "      <td>2.0</td>\n",
              "    </tr>\n",
              "  </tbody>\n",
              "</table>\n",
              "<p>146206 rows × 12 columns</p>\n",
              "</div>\n",
              "      <button class=\"colab-df-convert\" onclick=\"convertToInteractive('df-e96d1109-b4e1-491a-954d-e45a2cd2d423')\"\n",
              "              title=\"Convert this dataframe to an interactive table.\"\n",
              "              style=\"display:none;\">\n",
              "        \n",
              "  <svg xmlns=\"http://www.w3.org/2000/svg\" height=\"24px\"viewBox=\"0 0 24 24\"\n",
              "       width=\"24px\">\n",
              "    <path d=\"M0 0h24v24H0V0z\" fill=\"none\"/>\n",
              "    <path d=\"M18.56 5.44l.94 2.06.94-2.06 2.06-.94-2.06-.94-.94-2.06-.94 2.06-2.06.94zm-11 1L8.5 8.5l.94-2.06 2.06-.94-2.06-.94L8.5 2.5l-.94 2.06-2.06.94zm10 10l.94 2.06.94-2.06 2.06-.94-2.06-.94-.94-2.06-.94 2.06-2.06.94z\"/><path d=\"M17.41 7.96l-1.37-1.37c-.4-.4-.92-.59-1.43-.59-.52 0-1.04.2-1.43.59L10.3 9.45l-7.72 7.72c-.78.78-.78 2.05 0 2.83L4 21.41c.39.39.9.59 1.41.59.51 0 1.02-.2 1.41-.59l7.78-7.78 2.81-2.81c.8-.78.8-2.07 0-2.86zM5.41 20L4 18.59l7.72-7.72 1.47 1.35L5.41 20z\"/>\n",
              "  </svg>\n",
              "      </button>\n",
              "      \n",
              "  <style>\n",
              "    .colab-df-container {\n",
              "      display:flex;\n",
              "      flex-wrap:wrap;\n",
              "      gap: 12px;\n",
              "    }\n",
              "\n",
              "    .colab-df-convert {\n",
              "      background-color: #E8F0FE;\n",
              "      border: none;\n",
              "      border-radius: 50%;\n",
              "      cursor: pointer;\n",
              "      display: none;\n",
              "      fill: #1967D2;\n",
              "      height: 32px;\n",
              "      padding: 0 0 0 0;\n",
              "      width: 32px;\n",
              "    }\n",
              "\n",
              "    .colab-df-convert:hover {\n",
              "      background-color: #E2EBFA;\n",
              "      box-shadow: 0px 1px 2px rgba(60, 64, 67, 0.3), 0px 1px 3px 1px rgba(60, 64, 67, 0.15);\n",
              "      fill: #174EA6;\n",
              "    }\n",
              "\n",
              "    [theme=dark] .colab-df-convert {\n",
              "      background-color: #3B4455;\n",
              "      fill: #D2E3FC;\n",
              "    }\n",
              "\n",
              "    [theme=dark] .colab-df-convert:hover {\n",
              "      background-color: #434B5C;\n",
              "      box-shadow: 0px 1px 3px 1px rgba(0, 0, 0, 0.15);\n",
              "      filter: drop-shadow(0px 1px 2px rgba(0, 0, 0, 0.3));\n",
              "      fill: #FFFFFF;\n",
              "    }\n",
              "  </style>\n",
              "\n",
              "      <script>\n",
              "        const buttonEl =\n",
              "          document.querySelector('#df-e96d1109-b4e1-491a-954d-e45a2cd2d423 button.colab-df-convert');\n",
              "        buttonEl.style.display =\n",
              "          google.colab.kernel.accessAllowed ? 'block' : 'none';\n",
              "\n",
              "        async function convertToInteractive(key) {\n",
              "          const element = document.querySelector('#df-e96d1109-b4e1-491a-954d-e45a2cd2d423');\n",
              "          const dataTable =\n",
              "            await google.colab.kernel.invokeFunction('convertToInteractive',\n",
              "                                                     [key], {});\n",
              "          if (!dataTable) return;\n",
              "\n",
              "          const docLinkHtml = 'Like what you see? Visit the ' +\n",
              "            '<a target=\"_blank\" href=https://colab.research.google.com/notebooks/data_table.ipynb>data table notebook</a>'\n",
              "            + ' to learn more about interactive tables.';\n",
              "          element.innerHTML = '';\n",
              "          dataTable['output_type'] = 'display_data';\n",
              "          await google.colab.output.renderOutput(dataTable, element);\n",
              "          const docLink = document.createElement('div');\n",
              "          docLink.innerHTML = docLinkHtml;\n",
              "          element.appendChild(docLink);\n",
              "        }\n",
              "      </script>\n",
              "    </div>\n",
              "  </div>\n",
              "  "
            ]
          },
          "metadata": {},
          "execution_count": 31
        }
      ]
    },
    {
      "cell_type": "code",
      "source": [
        "train_vals = pd.pivot_table(X_train,values='user_score',index='user_id',columns='product_id')\n",
        "train_vals = train_vals.fillna(0)\n"
      ],
      "metadata": {
        "id": "TnJtaoITzTaD"
      },
      "execution_count": null,
      "outputs": []
    },
    {
      "cell_type": "code",
      "source": [
        "from pandas.io.formats.info import DataFrameTableBuilder\n",
        "X_train.to_csv(\"/content/drive/MyDrive/IR_Project/xtrain.csv\")\n",
        "X_test.to_csv(\"/content/drive/MyDrive/IR_Project/xtest.csv\")\n",
        "df.to_csv(\"/content/drive/MyDrive/IR_Project/fin.csv\")"
      ],
      "metadata": {
        "id": "BUB4uIlN2iUz"
      },
      "execution_count": null,
      "outputs": []
    },
    {
      "cell_type": "code",
      "source": [
        "user_prod_grp.to_csv(\"/content/drive/MyDrive/IR_Project/group.csv\")"
      ],
      "metadata": {
        "id": "MF29eoq63FwZ"
      },
      "execution_count": null,
      "outputs": []
    },
    {
      "cell_type": "code",
      "source": [
        "X_train.to_csv(\"/content/drive/MyDrive/IR_Project/xtrain.csv\")"
      ],
      "metadata": {
        "id": "q8xXbBmF6CqK"
      },
      "execution_count": null,
      "outputs": []
    },
    {
      "cell_type": "code",
      "source": [
        "from sklearn.metrics.pairwise import cosine_similarity\n",
        "import numpy as np\n",
        "from sklearn.metrics.pairwise import euclidean_distances\n",
        "from sklearn.feature_extraction.text import TfidfVectorizer,CountVectorizer"
      ],
      "metadata": {
        "id": "IFI_5xmRzsGK"
      },
      "execution_count": null,
      "outputs": []
    },
    {
      "cell_type": "code",
      "source": [
        "X_train, X_test = train_test_split(df,test_size=0.4)\n"
      ],
      "metadata": {
        "id": "GIu47QKw9P7F"
      },
      "execution_count": null,
      "outputs": []
    },
    {
      "cell_type": "code",
      "source": [
        "import pandas as pd\n",
        "# train_vals = pd.read_csv(\"/content/drive/MyDrive/IR_Project/xtrain.csv\")\n",
        "# X_test=pd.read_csv(\"/content/drive/MyDrive/IR_Project/xtest.csv\")\n",
        "df=pd.read_csv(\"/content/drive/MyDrive/IR_Project/fin.csv\")"
      ],
      "metadata": {
        "id": "zvOXmgx34tGz"
      },
      "execution_count": null,
      "outputs": []
    },
    {
      "cell_type": "code",
      "source": [
        "user_prod_grp=pd.read_csv(\"/content/drive/MyDrive/IR_Project/group.csv\")"
      ],
      "metadata": {
        "id": "AmWraZ9p48PH"
      },
      "execution_count": null,
      "outputs": []
    },
    {
      "cell_type": "code",
      "source": [
        " train_vals = pd.read_csv(\"/content/drive/MyDrive/IR_Project/xtrain.csv\")\n",
        " X_test=pd.read_csv(\"/content/drive/MyDrive/IR_Project/xtest.csv\")"
      ],
      "metadata": {
        "id": "uVkg5TNE9Ekc"
      },
      "execution_count": null,
      "outputs": []
    },
    {
      "cell_type": "code",
      "source": [
        "product_cat = X_train[['product_id','price_category','category_code','brand']].drop_duplicates('product_id')\n",
        "product_cat = product_cat.sort_values(by='product_id')"
      ],
      "metadata": {
        "id": "qKB2RcKMzh8f"
      },
      "execution_count": null,
      "outputs": []
    },
    {
      "cell_type": "code",
      "source": [
        "price_cat_matrix = np.reciprocal(euclidean_distances(np.array(product_cat['price_category']).reshape(-1,1))+1)\n",
        "euclidean_matrix = pd.DataFrame(price_cat_matrix,columns=product_cat['product_id'],index=product_cat['product_id'])"
      ],
      "metadata": {
        "id": "h8Hl_1jt4RHz"
      },
      "execution_count": null,
      "outputs": []
    },
    {
      "cell_type": "code",
      "source": [
        "tfidf_vectorizer = TfidfVectorizer()\n",
        "term_docs = tfidf_vectorizer.fit_transform(list(product_cat['category_code']))\n"
      ],
      "metadata": {
        "id": "jktGmIW_DFT6"
      },
      "execution_count": null,
      "outputs": []
    },
    {
      "cell_type": "code",
      "source": [],
      "metadata": {
        "id": "UdTWFnPODI54"
      },
      "execution_count": null,
      "outputs": []
    },
    {
      "cell_type": "code",
      "source": [
        "interactions = ['Viewed', 'Added to Cart', 'Purchased']\n",
        "\n",
        "plt.bar(interactions, num_interactions, color ='cyan')\n",
        "writeval(interactions, num_interactions)\n",
        " \n",
        "plt.xlabel(\"Type of Interaction\")\n",
        "plt.ylabel(\"No. of Interactions\")\n",
        "plt.title(\"Interaction Count\")\n",
        "plt.yscale('log')\n",
        "plt.show()\n",
        "\n"
      ],
      "metadata": {
        "colab": {
          "base_uri": "https://localhost:8080/",
          "height": 315
        },
        "outputId": "a31dc6c0-d75b-4a1e-a9e7-e79e173d28a9",
        "id": "0WqCNkwhDMri"
      },
      "execution_count": null,
      "outputs": [
        {
          "output_type": "display_data",
          "data": {
            "text/plain": [
              "<Figure size 432x288 with 1 Axes>"
            ],
            "image/png": "[encoded data removed]"
          },
          "metadata": {}
        }
      ]
    },
    {
      "cell_type": "code",
      "source": [
        "\n",
        "\n",
        "dt_matrix = pd.DataFrame(term_docs.toarray().round(3), index=[i for i in product_cat['product_id']], columns=tfidf_vectorizer.get_feature_names_out())\n",
        "from sklearn.metrics.pairwise import euclidean_distances\n",
        "cos_similar_matrix = pd.DataFrame(cosine_similarity(dt_matrix.values),columns=product_cat['product_id'],index=product_cat['product_id'])"
      ],
      "metadata": {
        "id": "HsRnkMsM4TCr"
      },
      "execution_count": null,
      "outputs": []
    },
    {
      "cell_type": "code",
      "source": [
        "product_cat = product_cat.fillna('')\n",
        "print(product_cat.shape)"
      ],
      "metadata": {
        "colab": {
          "base_uri": "https://localhost:8080/"
        },
        "id": "KvRbA5Pl6Vdl",
        "outputId": "b0616bc5-47b9-46e2-ff8a-c1cf0eb22837"
      },
      "execution_count": null,
      "outputs": [
        {
          "output_type": "stream",
          "name": "stdout",
          "text": [
            "(5763, 4)\n"
          ]
        }
      ]
    },
    {
      "cell_type": "code",
      "source": [
        "tfidf_vectorizer = TfidfVectorizer()\n",
        "term_docs = tfidf_vectorizer.fit_transform(list(product_cat['brand']))\n",
        "from sklearn.feature_extraction.text import CountVectorizer\n",
        "m1_data = pd.DataFrame(term_docs.toarray().round(3), index=[i for i in product_cat['product_id']], columns=tfidf_vectorizer.get_feature_names_out())\n",
        "m1_data = m1_data + 0.01\n",
        "m1_cosine_sim = pd.DataFrame(cosine_similarity(m1_data.values),columns=product_cat['product_id'],index=product_cat['product_id'])\n"
      ],
      "metadata": {
        "id": "2fZ3kuSS4U3h"
      },
      "execution_count": null,
      "outputs": []
    },
    {
      "cell_type": "code",
      "source": [
        "train_vals = pd.pivot_table(X_train,values='user_score',index='user_id',columns='product_id')\n",
        "train_vals = train_vals.fillna(0)"
      ],
      "metadata": {
        "id": "-JuLsYa261p2"
      },
      "execution_count": null,
      "outputs": []
    },
    {
      "cell_type": "code",
      "source": [
        "print(train_vals.shape)"
      ],
      "metadata": {
        "id": "jd3Hd9ng66dk"
      },
      "execution_count": null,
      "outputs": []
    },
    {
      "cell_type": "markdown",
      "source": [],
      "metadata": {
        "id": "r1hLzg5a6Tpt"
      }
    },
    {
      "cell_type": "code",
      "source": [
        "sim_data = m1_cosine_sim.multiply(euclidean_matrix).multiply(m1_cosine_sim)\n",
        "content_matrix = train_vals.dot(sim_data)"
      ],
      "metadata": {
        "id": "eZlRtIOq4YMz"
      },
      "execution_count": null,
      "outputs": []
    },
    {
      "cell_type": "code",
      "source": [],
      "metadata": {
        "id": "Y_lZ0h7b-Fhu"
      },
      "execution_count": null,
      "outputs": []
    },
    {
      "cell_type": "code",
      "source": [
        "data_content.to_csv(\"/content/drive/MyDrive/IR_Project/content_matrix.csv\")"
      ],
      "metadata": {
        "id": "XVAtNTy7-BtC"
      },
      "execution_count": null,
      "outputs": []
    },
    {
      "cell_type": "code",
      "source": [
        "from sklearn.preprocessing import MinMaxScaler\n",
        "std = MinMaxScaler(feature_range=(0, 1))\n",
        "std.fit(data_content.values)\n",
        "from sklearn.preprocessing import MinMaxScaler\n",
        "data_content = std.transform(data_content.values)"
      ],
      "metadata": {
        "id": "e8iVO1DF8qZB"
      },
      "execution_count": null,
      "outputs": []
    },
    {
      "cell_type": "code",
      "source": [
        "from google.colab import drive\n",
        "drive.mount('/content/drive')\n",
        "import pandas as pd\n",
        "data_content=pd.read_csv(\"/content/drive/MyDrive/IR_Project/content_matrix.csv\")"
      ],
      "metadata": {
        "colab": {
          "base_uri": "https://localhost:8080/"
        },
        "id": "zF9P44NMFTFZ",
        "outputId": "01b4f44b-aa1a-4acf-e218-db86798882af"
      },
      "execution_count": null,
      "outputs": [
        {
          "output_type": "stream",
          "name": "stdout",
          "text": [
            "Drive already mounted at /content/drive; to attempt to forcibly remount, call drive.mount(\"/content/drive\", force_remount=True).\n"
          ]
        }
      ]
    },
    {
      "cell_type": "code",
      "source": [
        "data_content"
      ],
      "metadata": {
        "id": "qmtz_EnYHYTO"
      },
      "execution_count": null,
      "outputs": []
    },
    {
      "cell_type": "code",
      "source": [
        "data_content = pd.DataFrame(data_content,columns=sorted(X_train['product_id'].unique()),\n",
        "                            index=sorted(X_train['user_id'].unique()))\n",
        "from sklearn.feature_extraction.text import TfidfVectorizer\n",
        "df_content_fin = data_content.stack().reset_index()\n",
        "df_content_fin = df_content_fin.rename(columns={'level_0':'user_id',\n",
        "                                                'level_1':'product_id',\n",
        "                                                0:'predicted_interaction'})"
      ],
      "metadata": {
        "id": "kNcQDFMnHKv9"
      },
      "execution_count": null,
      "outputs": []
    },
    {
      "cell_type": "code",
      "source": [],
      "metadata": {
        "id": "3F-sUEfqGxp6"
      },
      "execution_count": null,
      "outputs": []
    },
    {
      "cell_type": "code",
      "source": [],
      "metadata": {
        "id": "vCCRH9L17AJj"
      },
      "execution_count": null,
      "outputs": []
    },
    {
      "cell_type": "code",
      "execution_count": null,
      "metadata": {
        "id": "dYZcUe23gvlP"
      },
      "outputs": [],
      "source": [
        "import seaborn as sn\n",
        "import pandas as pd\n",
        "import matplotlib.pyplot as plt"
      ]
    },
    {
      "cell_type": "code",
      "source": [
        "%matplotlib inline"
      ],
      "metadata": {
        "id": "CO7hW6Emub9_"
      },
      "execution_count": null,
      "outputs": []
    },
    {
      "cell_type": "code",
      "source": [
        "df_cm = pd.DataFrame(array, range(2), range(2))\n",
        "\n",
        "sn.set(font_scale=1.4) # for label size\n",
        "\n",
        "sn.heatmap(df_cm, annot=True, annot_kws={\"size\": 12}, fmt='g', \n",
        "           xticklabels=['Purchase Successful', 'Purchase Unsuccessful'], \n",
        "           yticklabels=['Purchase Successful', 'Purchase Unsuccessful'], \n",
        "           cmap=\"RdYlGn\") \n",
        "plt.title('Confusion Matrix')\n",
        "\n",
        "plt.show()"
      ],
      "metadata": {
        "colab": {
          "base_uri": "https://localhost:8080/",
          "height": 454
        },
        "id": "kQj3TFKNko9G",
        "outputId": "9f726a48-cf45-4021-f424-72463199d325"
      },
      "execution_count": null,
      "outputs": [
        {
          "output_type": "display_data",
          "data": {
            "text/plain": [
              "<Figure size 432x288 with 2 Axes>"
            ],
            "image/png": "[encoded data removed]"
          },
          "metadata": {}
        }
      ]
    },
    {
      "cell_type": "code",
      "source": [
        "plt.plot(unique_purchase_count, prec_list, label='Precision', marker='o', color='purple')\n",
        "plt.plot(unique_purchase_count, rec_list, label='Recall', marker='*', color='orange')\n",
        "plt.xlabel('Unique Purchase Count')\n",
        "plt.title('Precision/Recall v/s Number of Unique Purchases')\n",
        "plt.show()"
      ],
      "metadata": {
        "colab": {
          "base_uri": "https://localhost:8080/",
          "height": 315
        },
        "id": "0vc4xizXrqKY",
        "outputId": "67d7f440-ba1d-48b7-92de-e72a51727558"
      },
      "execution_count": null,
      "outputs": [
        {
          "output_type": "display_data",
          "data": {
            "text/plain": [
              "<Figure size 432x288 with 1 Axes>"
            ],
            "image/png": "[encoded data removed]"
          },
          "metadata": {}
        }
      ]
    },
    {
      "cell_type": "code",
      "source": [
        "def writeval(interactions, num_interactions):\n",
        "    for i in range(len(interactions)):\n",
        "        plt.text(i, num_interactions[i], num_interactions[i])"
      ],
      "metadata": {
        "id": "1LKDEWg1uM8U"
      },
      "execution_count": null,
      "outputs": []
    },
    {
      "cell_type": "code",
      "source": [
        "interactions = ['Viewed', 'Added to Cart', 'Purchased']\n",
        "\n",
        "plt.bar(interactions, num_interactions, color ='cyan')\n",
        "writeval(interactions, num_interactions)\n",
        " \n",
        "plt.xlabel(\"Type of Interaction\")\n",
        "plt.ylabel(\"No. of Interactions\")\n",
        "plt.title(\"Interaction Count\")\n",
        "plt.yscale('log')\n",
        "plt.show()\n",
        "\n"
      ],
      "metadata": {
        "colab": {
          "base_uri": "https://localhost:8080/",
          "height": 315
        },
        "id": "R4fezkhruOmT",
        "outputId": "a31dc6c0-d75b-4a1e-a9e7-e79e173d28a9"
      },
      "execution_count": null,
      "outputs": [
        {
          "output_type": "display_data",
          "data": {
            "text/plain": [
              "<Figure size 432x288 with 1 Axes>"
            ],
            "image/png": "[encoded data removed]"
          },
          "metadata": {}
        }
      ]
    },
    {
      "cell_type": "code",
      "source": [],
      "metadata": {
        "id": "WlcJs6pg5RAk"
      },
      "execution_count": null,
      "outputs": []
    },
    {
      "cell_type": "code",
      "source": [
        "import numpy as np\n",
        "import matplotlib.pyplot as plt\n",
        "\n",
        "courses = [df[\"users\"].unique().count(), df[\"users\"][\"cart\"].count(), df[\"users\"][\"purchases\"].count]\n",
        "values = np.arange(13)\n",
        "\n",
        "fig = plt.figure(figsize = (10, 8))\n",
        " \n",
        "# creating the bar plot\n",
        "plt.bar(np.arange(13), courses, color ='green', width = 0.4)\n",
        " \n",
        "plt.xlabel(\"Number of Purchases\")\n",
        "plt.ylabel(\"No. of Users\")\n",
        "plt.title(\"No. of Users VS Purchases\")\n",
        "plt.show()"
      ],
      "metadata": {
        "colab": {
          "base_uri": "https://localhost:8080/",
          "height": 532
        },
        "id": "vI265HRTx0tx",
        "outputId": "7735b923-e38b-497e-cf08-b5279c69a207"
      },
      "execution_count": null,
      "outputs": [
        {
          "output_type": "display_data",
          "data": {
            "text/plain": [
              "<Figure size 720x576 with 1 Axes>"
            ],
            "image/png": "[encoded data removed]"
          },
          "metadata": {}
        }
      ]
    }
  ]
}