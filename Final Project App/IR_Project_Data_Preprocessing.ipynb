{
  "nbformat": 4,
  "nbformat_minor": 0,
  "metadata": {
    "colab": {
      "provenance": [],
      "machine_shape": "hm"
    },
    "kernelspec": {
      "name": "python3",
      "display_name": "Python 3"
    },
    "language_info": {
      "name": "python"
    },
    "gpuClass": "standard"
  },
  "cells": [
    {
      "cell_type": "code",
      "execution_count": 1,
      "metadata": {
        "colab": {
          "base_uri": "https://localhost:8080/"
        },
        "id": "cKhTZyz81--M",
        "outputId": "5c28717b-7a2e-495f-da85-549986106669"
      },
      "outputs": [
        {
          "output_type": "stream",
          "name": "stdout",
          "text": [
            "Mounted at /content/drive\n"
          ]
        }
      ],
      "source": [
        "from google.colab import drive\n",
        "drive.mount('/content/drive')"
      ]
    },
    {
      "cell_type": "code",
      "source": [
        "import pandas as pd\n",
        "import numpy as np"
      ],
      "metadata": {
        "id": "NzhymPjz3j4G"
      },
      "execution_count": 2,
      "outputs": []
    },
    {
      "cell_type": "code",
      "source": [
        "raw_df = pd.read_csv('/content/drive/MyDrive/IR_Project/2019-Oct.csv')"
      ],
      "metadata": {
        "id": "e6qLEBx83ygX"
      },
      "execution_count": 3,
      "outputs": []
    },
    {
      "cell_type": "code",
      "source": [
        "raw_df.head()"
      ],
      "metadata": {
        "id": "R_PguEPq4DIF"
      },
      "execution_count": null,
      "outputs": []
    },
    {
      "cell_type": "code",
      "source": [
        "df_dated = raw_df[raw_df['event_time'].str.contains('2019-10-01') | \n",
        "          raw_df['event_time'].str.contains('2019-10-02') | \n",
        "          raw_df['event_time'].str.contains('2019-10-03') | \n",
        "          raw_df['event_time'].str.contains('2019-10-04') | \n",
        "          raw_df['event_time'].str.contains('2019-10-05')]"
      ],
      "metadata": {
        "id": "yVbu8P4V3zxh"
      },
      "execution_count": null,
      "outputs": []
    },
    {
      "cell_type": "code",
      "source": [
        "df_dated = df_dated.fillna('')"
      ],
      "metadata": {
        "id": "TdIosBrr4Y6n"
      },
      "execution_count": null,
      "outputs": []
    },
    {
      "cell_type": "code",
      "source": [
        "df_categ = df_dated[df_dated['category_code'].str.contains('computers.')]"
      ],
      "metadata": {
        "id": "qS7SIjnd4f4p"
      },
      "execution_count": null,
      "outputs": []
    },
    {
      "cell_type": "code",
      "source": [
        "interaction_map = {'view':2,'cart':30,'purchase':80}"
      ],
      "metadata": {
        "id": "WinGJLPeEeO0"
      },
      "execution_count": null,
      "outputs": []
    },
    {
      "cell_type": "code",
      "source": [
        "df_categ['user_score'] = df_categ['event_type'].map(interaction_map)\n",
        "df_categ['user_purchase'] = df_categ['event_type'].apply(lambda x: 1 if x=='purchase' else 0)"
      ],
      "metadata": {
        "id": "OKhneUN9EeLb"
      },
      "execution_count": null,
      "outputs": []
    },
    {
      "cell_type": "code",
      "source": [
        "categs = df_categ['category_code'].unique()"
      ],
      "metadata": {
        "id": "e7V__zXCJwqO"
      },
      "execution_count": null,
      "outputs": []
    },
    {
      "cell_type": "code",
      "source": [
        "df_quart = df_categ"
      ],
      "metadata": {
        "id": "wTE3czZZJX_7"
      },
      "execution_count": null,
      "outputs": []
    },
    {
      "cell_type": "code",
      "source": [
        "# categorizing prices into 5-quartiles\n",
        "df_quart.loc[:, 'price_category'] = 0\n",
        "price_series = list()\n",
        "for i in range(len(categs)):\n",
        "  serie = df_quart[df_quart['category_code'] == categs[i]]['price']\n",
        "  price_series.append(serie)"
      ],
      "metadata": {
        "id": "cHeKheT8EeFe"
      },
      "execution_count": null,
      "outputs": []
    },
    {
      "cell_type": "code",
      "source": [],
      "metadata": {
        "id": "TQKMXs33Kbnm"
      },
      "execution_count": null,
      "outputs": []
    },
    {
      "cell_type": "code",
      "source": [
        "qcut_series = []"
      ],
      "metadata": {
        "id": "Usvzh6ISneo7"
      },
      "execution_count": null,
      "outputs": []
    },
    {
      "cell_type": "code",
      "source": [
        "for i in range(len(categs)):\n",
        "  qcut_serie = pd.qcut(price_series[i], q=5, labels=[1,2,3,4,5])\n",
        "  qcut_series.append(qcut_serie.tolist())"
      ],
      "metadata": {
        "id": "ypLA1dwXpm34"
      },
      "execution_count": null,
      "outputs": []
    },
    {
      "cell_type": "code",
      "source": [
        "qcut_series"
      ],
      "metadata": {
        "id": "c37y5Xz4Cwu9"
      },
      "execution_count": null,
      "outputs": []
    },
    {
      "cell_type": "code",
      "source": [
        "df = df_quart"
      ],
      "metadata": {
        "id": "yyTYEkVEKly_"
      },
      "execution_count": null,
      "outputs": []
    },
    {
      "cell_type": "code",
      "source": [
        "df['category_code'].unique()"
      ],
      "metadata": {
        "colab": {
          "base_uri": "https://localhost:8080/"
        },
        "id": "iFBvjwwd6TFi",
        "outputId": "cf42a96c-fff2-4534-d185-32decbd44622"
      },
      "execution_count": null,
      "outputs": [
        {
          "output_type": "execute_result",
          "data": {
            "text/plain": [
              "array(['computers.notebook', 'computers.desktop',\n",
              "       'computers.peripherals.monitor', 'computers.components.videocards',\n",
              "       'computers.peripherals.keyboard',\n",
              "       'computers.components.motherboard', 'computers.peripherals.mouse',\n",
              "       'computers.peripherals.printer', 'computers.components.memory',\n",
              "       'computers.ebooks', 'computers.components.power_supply',\n",
              "       'computers.components.cpu', 'computers.components.hdd',\n",
              "       'computers.components.cooler', 'computers.peripherals.camera'],\n",
              "      dtype=object)"
            ]
          },
          "metadata": {},
          "execution_count": 84
        }
      ]
    },
    {
      "cell_type": "code",
      "source": [
        "for idx, element in enumerate(df['category_code'].unique()):\n",
        "  print(len(df.loc[df['category_code']==element, 'price_category']))\n",
        "  print(len(qcut_series[idx]))"
      ],
      "metadata": {
        "id": "MPId43_kOFQf"
      },
      "execution_count": null,
      "outputs": []
    },
    {
      "cell_type": "code",
      "source": [
        "for idx, element in enumerate(df['category_code'].unique()):\n",
        "  df.loc[df['category_code']==element, 'price_category'] = qcut_series[idx]"
      ],
      "metadata": {
        "id": "KQbjwcgAb9zH"
      },
      "execution_count": null,
      "outputs": []
    },
    {
      "cell_type": "code",
      "source": [
        "from sklearn.preprocessing import MinMaxScaler"
      ],
      "metadata": {
        "id": "FgfxPgvtKbhD"
      },
      "execution_count": null,
      "outputs": []
    },
    {
      "cell_type": "code",
      "source": [
        "user_prod_grp = []"
      ],
      "metadata": {
        "id": "UMFTiwY7KbeT"
      },
      "execution_count": null,
      "outputs": []
    },
    {
      "cell_type": "code",
      "source": [
        "user_prod_grp = df.groupby(['user_id','product_id'])['user_score','user_purchase'].sum().reset_index()"
      ],
      "metadata": {
        "id": "tGiPZNRsKbba"
      },
      "execution_count": null,
      "outputs": []
    },
    {
      "cell_type": "code",
      "source": [
        "user_prod_grp['user_purchase'] = user_prod_grp['user_purchase'].apply(lambda x: 1 if x>1 else x)"
      ],
      "metadata": {
        "id": "6it_2TlvbKTj"
      },
      "execution_count": null,
      "outputs": []
    },
    {
      "cell_type": "code",
      "source": [
        "std = MinMaxScaler(feature_range=(0.025, 1))\n",
        "user_prod_grp['user_score'] = user_prod_grp['user_score'].apply(lambda x: 100 if x>100 else x)"
      ],
      "metadata": {
        "id": "IQxMFiB5VCDS"
      },
      "execution_count": null,
      "outputs": []
    },
    {
      "cell_type": "code",
      "source": [
        "std.fit(user_prod_grp['user_score'].values.reshape(-1,1))\n",
        "user_prod_grp['interaction_score'] = std.transform(user_prod_grp['user_score'].values.reshape(-1,1))"
      ],
      "metadata": {
        "id": "kzR8_2AUVcRs"
      },
      "execution_count": null,
      "outputs": []
    },
    {
      "cell_type": "code",
      "source": [
        "user_prod_grp = user_prod_grp.merge(df[['product_id','category_code','brand','price','price_category']].drop_duplicates('product_id'),on=['product_id'])"
      ],
      "metadata": {
        "id": "NQOigxpCLStO"
      },
      "execution_count": null,
      "outputs": []
    },
    {
      "cell_type": "code",
      "source": [
        "df.to_csv(\"/content/drive/MyDrive/IR_Project/df_fin_v0.csv\")\n",
        "user_prod_grp.to_csv(\"/content/drive/MyDrive/IR_Project/user_prod_grp_fin_v0.csv\")"
      ],
      "metadata": {
        "id": "PcRecs21LXiG"
      },
      "execution_count": null,
      "outputs": []
    }
  ]
}